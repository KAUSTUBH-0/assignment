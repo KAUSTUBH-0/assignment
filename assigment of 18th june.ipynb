{
 "cells": [
  {
   "cell_type": "markdown",
   "id": "09bc345f",
   "metadata": {},
   "source": [
    "1. What is the role of the 'else' block in a try-except statement? Provide an example\n",
    "   scenario where it would be useful."
   ]
  },
  {
   "cell_type": "markdown",
   "id": "7766f590",
   "metadata": {},
   "source": [
    ">The 'else' block in a try-except statement is optional and is executed if no exception occurs in the try block. It allows you to specify code that should be executed when the try block runs successfully, without any exceptions being raised. The 'else' block is useful for separating the error handling code from the normal execution code and improving code readability."
   ]
  },
  {
   "cell_type": "code",
   "execution_count": null,
   "id": "762bb582",
   "metadata": {},
   "outputs": [],
   "source": [
    "#example\n",
    "try:\n",
    "    # Code that might raise an exception\n",
    "    result = perform_operation()\n",
    "except Exception as e:\n",
    "    print(\"An error occurred:\", str(e))\n",
    "else:\n",
    "    # Code to execute when no exception occurs\n",
    "    print(\"Operation successful.\")\n",
    "    save_result(result)"
   ]
  },
  {
   "cell_type": "markdown",
   "id": "32fe3a68",
   "metadata": {},
   "source": [
    "2. Can a try-except block be nested inside another try-except block? Explain with an\n",
    "   example."
   ]
  },
  {
   "cell_type": "markdown",
   "id": "344648fb",
   "metadata": {},
   "source": [
    ">Yes, a try-except block can be nested inside another try-except block. This is known as nested exception handling. It allows for handling different types of exceptions at different levels and provides a more granular control over error handling."
   ]
  },
  {
   "cell_type": "code",
   "execution_count": null,
   "id": "df075ee7",
   "metadata": {},
   "outputs": [],
   "source": [
    "#example\n",
    "try:\n",
    "    # Outer try block\n",
    "    # ...\n",
    "    try:\n",
    "        # Inner try block\n",
    "        # ...\n",
    "    except ExceptionType2:\n",
    "        # Inner except block for ExceptionType2\n",
    "        # ...\n",
    "except ExceptionType1:\n",
    "    # Outer except block for ExceptionType1\n",
    "    "
   ]
  },
  {
   "cell_type": "markdown",
   "id": "da0511a7",
   "metadata": {},
   "source": [
    "3. How can you create a custom exception class in Python? Provide an example that\n",
    "   demonstrates its usage."
   ]
  },
  {
   "cell_type": "markdown",
   "id": "0041d3c1",
   "metadata": {},
   "source": [
    ">To create a custom exception class in Python, you can define a new class that inherits from the built-in Exception class or one of its subclasses. By creating a custom exception class, you can provide more specific information or behavior for a particular type of exception in your code."
   ]
  },
  {
   "cell_type": "code",
   "execution_count": null,
   "id": "a88730b9",
   "metadata": {},
   "outputs": [],
   "source": [
    "#example\n",
    "class CustomError(Exception):\n",
    "    pass\n",
    "\n",
    "# Usage example:\n",
    "def validate_input(value):\n",
    "    if value < 0:\n",
    "        raise CustomError(\"Invalid input: negative value not allowed\")\n",
    "\n",
    "try:\n",
    "    validate_input(-5)\n",
    "except CustomError as e:\n",
    "    print(\"Error:\", str(e))\n"
   ]
  },
  {
   "cell_type": "markdown",
   "id": "14a284d2",
   "metadata": {},
   "source": [
    "4. What are some common exceptions that are built-in to Python?"
   ]
  },
  {
   "cell_type": "markdown",
   "id": "b4c44407",
   "metadata": {},
   "source": [
    ">Some common exceptions that are built-in to Python include:\n",
    "\n",
    ">SyntaxError: Raised when there is a syntax error in the code.\n",
    "\n",
    ">TypeError: Raised when an operation or function is applied to an object of an inappropriate type.\n",
    "\n",
    ">ValueError: Raised when a function receives an argument of the correct type but with an invalid value.\n",
    "\n",
    ">IndexError: Raised when trying to access an index that is out of range in a sequence (list, tuple, etc.).\n",
    "\n",
    ">FileNotFoundError: Raised when a file or directory is requested but cannot be found.\n",
    "\n",
    ">KeyError: Raised when trying to access a dictionary key that does not exist.\n",
    "\n",
    ">ZeroDivisionError: Raised when dividing a number by zero."
   ]
  },
  {
   "cell_type": "markdown",
   "id": "8cbd76ac",
   "metadata": {},
   "source": [
    "5. What is logging in Python, and why is it important in software development?"
   ]
  },
  {
   "cell_type": "markdown",
   "id": "149d9771",
   "metadata": {},
   "source": [
    ">Logging in Python is a mechanism for recording events, messages, and errors that occur during the execution of a program. It provides a standardized way to collect and store log information for analysis, debugging, and monitoring purposes."
   ]
  },
  {
   "cell_type": "markdown",
   "id": "941deeda",
   "metadata": {},
   "source": [
    "> Logging is important in software development because:\n",
    "\n",
    ">Debugging and troubleshooting: Logs help developers understand the flow of execution and identify issues, errors, and unexpected behavior in the code.\n",
    "\n",
    ">Monitoring and auditing: Logs allow monitoring systems to keep track of application health, performance, and security. They provide valuable insights for auditing and compliance purposes.\n",
    "\n",
    ">Production environment: In production environments, using logging instead of print statements helps maintain code cleanliness and performance by allowing fine-grained control over log levels and output destinations."
   ]
  },
  {
   "cell_type": "markdown",
   "id": "b3ce31f4",
   "metadata": {},
   "source": [
    "6. Explain the purpose of log levels in Python logging and provide examples of when\n",
    "   each log level would be appropriate."
   ]
  },
  {
   "cell_type": "markdown",
   "id": "64aa6f07",
   "metadata": {},
   "source": [
    ">Log levels in Python logging define the severity or importance of log messages. They allow filtering and controlling which messages should be recorded and at what level of severity. The log levels provided by the logging module in Python, in increasing order of severity, are:\n",
    "\n",
    ">DEBUG: Detailed information, typically useful for diagnosing problems.\n",
    "\n",
    ">INFO: General information about the program's execution.\n",
    "\n",
    ">WARNING: Indication of potential issues or unexpected behavior that is not necessarily an error.\n",
    "\n",
    ">ERROR: An error occurred during the execution of the program, but it can still continue.\n",
    "\n",
    ">CRITICAL: A serious error occurred, and the program may not be able to continue."
   ]
  },
  {
   "cell_type": "code",
   "execution_count": 1,
   "id": "1f21b894",
   "metadata": {},
   "outputs": [
    {
     "name": "stderr",
     "output_type": "stream",
     "text": [
      "INFO:root:Info message\n",
      "WARNING:root:Warning message\n",
      "ERROR:root:Error message\n",
      "CRITICAL:root:Critical message\n"
     ]
    }
   ],
   "source": [
    "#debug\n",
    "import logging\n",
    "\n",
    "logging.basicConfig(level=logging.INFO)\n",
    "\n",
    "# Log messages\n",
    "logging.debug(\"Debug message\")\n",
    "logging.info(\"Info message\")\n",
    "logging.warning(\"Warning message\")\n",
    "logging.error(\"Error message\")\n",
    "logging.critical(\"Critical message\")"
   ]
  },
  {
   "cell_type": "markdown",
   "id": "ac68eb8b",
   "metadata": {},
   "source": [
    "7. What are log formatters in Python logging, and how can you customise the log\n",
    "   "
   ]
  },
  {
   "cell_type": "markdown",
   "id": "f072c8f7",
   "metadata": {},
   "source": [
    ">Log formatters in Python logging define the structure and format of the log messages. They allow customization of the output, including timestamp, log level, module name, and log message itself. The Formatter class in the logging module is used to create log formatters."
   ]
  },
  {
   "cell_type": "code",
   "execution_count": null,
   "id": "d5bd151c",
   "metadata": {},
   "outputs": [],
   "source": [
    "import logging\n",
    "\n",
    "# Create a formatter\n",
    "formatter = logging.Formatter('%(asctime)s - %(levelname)s - %(message)s')\n",
    "\n",
    "# Create a handler and set the formatter\n",
    "handler = logging.StreamHandler()\n",
    "handler.setFormatter(formatter)\n",
    "\n",
    "# Create a logger and add the handler\n",
    "logger = logging.getLogger()\n",
    "logger.addHandler(handler)\n",
    "\n",
    "# Log messages\n",
    "logger.warning(\"This is a warning\")\n",
    "logger.error(\"This is an error\")\n"
   ]
  },
  {
   "cell_type": "markdown",
   "id": "f369f475",
   "metadata": {},
   "source": [
    "8. How can you set up logging to capture log messages from multiple modules or\n",
    "    classes in a Python application?"
   ]
  },
  {
   "cell_type": "markdown",
   "id": "7aa6b868",
   "metadata": {},
   "source": [
    ">To capture log messages from multiple modules or classes in a Python application, you can configure logging with a common logger and set the appropriate log level and handlers. By using a logger with a consistent name throughout your application, you can centralize the logging configuration and control the behavior of log messages from different modules."
   ]
  },
  {
   "cell_type": "code",
   "execution_count": null,
   "id": "4972debb",
   "metadata": {},
   "outputs": [],
   "source": [
    "import logging\n",
    "\n",
    "# Set up logging configuration\n",
    "logging.basicConfig(level=logging.INFO)\n",
    "\n",
    "# Create logger instances for different modules\n",
    "logger_module1 = logging.getLogger(\"module1\")\n",
    "logger_module2 = logging.getLogger(\"module2\")\n",
    "\n",
    "# Log messages from module 1\n",
    "logger_module1.info(\"Module 1 - Info message\")\n",
    "logger_module1.error(\"Module 1 - Error message\")\n",
    "\n",
    "# Log messages from module 2\n",
    "logger_module2.info(\"Module 2 - Info message\")\n",
    "logger_module2.error(\"Module 2 - Error message\")"
   ]
  },
  {
   "cell_type": "markdown",
   "id": "f1f82f02",
   "metadata": {},
   "source": [
    "9. What is the difference between the logging and print statements in Python? When\n",
    "    should you use logging over print statements in a real-world application?"
   ]
  },
  {
   "cell_type": "markdown",
   "id": "577f701a",
   "metadata": {},
   "source": [
    ">The main differences between logging and print statements in Python are:\n",
    "\n",
    ">Flexibility and configurability: Logging allows you to control the level of logging, format the log messages, and direct the output to different destinations (e.g., console, file) based on different conditions or configurations. Print statements, on the other hand, have limited control and output only to the console.\n",
    "\n",
    ">Production use: Logging is designed for production use, providing a structured and standardized way to collect and manage log messages. It allows for easy filtering, analysis, and monitoring of log data. Print statements are primarily used for debugging and quick output of values during development and may not be suitable for production environments.\n",
    "\n",
    ">Granularity: Logging allows you to log messages with different levels of severity, which can help in troubleshooting and debugging. Print statements are typically used to display specific values or intermediate results."
   ]
  },
  {
   "cell_type": "markdown",
   "id": "5d0b8513",
   "metadata": {},
   "source": [
    "10. Write a Python program that logs a message to a file named \"app.log\" with the\n",
    "    following requirements:\n",
    "● The log message should be \"Hello, World!\"\n",
    "● The log level should be set to \"INFO.\"\n",
    "● The log file should append new log entries without overwriting previous ones."
   ]
  },
  {
   "cell_type": "code",
   "execution_count": null,
   "id": "6ca40d4e",
   "metadata": {},
   "outputs": [],
   "source": [
    "import logging\n",
    "\n",
    "logging.basicConfig(filename=\"app.log\", filemode=\"a\", level=logging.INFO)\n",
    "\n",
    "logger = logging.getLogger(\"my_app\")\n",
    "\n",
    "logger.info(\"Hello, World!\")"
   ]
  },
  {
   "cell_type": "markdown",
   "id": "151e5bc2",
   "metadata": {},
   "source": [
    "11. Create a Python program that logs an error message to the console and a file named\n",
    "    \"errors.log\" if an exception occurs during the program's execution. The error\n",
    "     message should include the exception type and a timestamp."
   ]
  },
  {
   "cell_type": "code",
   "execution_count": null,
   "id": "6090d78a",
   "metadata": {},
   "outputs": [],
   "source": [
    "import logging\n",
    "import datetime\n",
    "\n",
    "logging.basicConfig(filename=\"errors.log\", filemode=\"a\", level=logging.ERROR,\n",
    "                    format=\"%(asctime)s - %(levelname)s - %(message)s\")\n",
    "\n",
    "logger = logging.getLogger(\"my_app\")\n",
    "\n",
    "try:\n",
    "    # Code that might raise an exception\n",
    "    result = perform_operation()\n",
    "except Exception as e:\n",
    "    # Log the exception with timestamp and exception type\n",
    "    logger.error(f\"Exception occurred: {str(e)}, Timestamp: {datetime.datetime.now()}\")"
   ]
  }
 ],
 "metadata": {
  "kernelspec": {
   "display_name": "Python 3 (ipykernel)",
   "language": "python",
   "name": "python3"
  },
  "language_info": {
   "codemirror_mode": {
    "name": "ipython",
    "version": 3
   },
   "file_extension": ".py",
   "mimetype": "text/x-python",
   "name": "python",
   "nbconvert_exporter": "python",
   "pygments_lexer": "ipython3",
   "version": "3.10.9"
  }
 },
 "nbformat": 4,
 "nbformat_minor": 5
}
