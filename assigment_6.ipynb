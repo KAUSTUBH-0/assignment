{
 "cells": [
  {
   "cell_type": "markdown",
   "id": "a56f14f4",
   "metadata": {},
   "source": [
    "Q.1. What are keywords in python? Using the keyword library, print all the python keywords."
   ]
  },
  {
   "cell_type": "markdown",
   "id": "15535415",
   "metadata": {},
   "source": [
    ">Keywords in Python are reserved words that have special meanings and purposes in the language. These keywords cannot be used as identifiers (e.g., variable names or function names) because they are part of the Python syntax. They are used to define the structure and flow of the code."
   ]
  },
  {
   "cell_type": "code",
   "execution_count": 10,
   "id": "df135b7d",
   "metadata": {},
   "outputs": [
    {
     "name": "stdout",
     "output_type": "stream",
     "text": [
      "False\n",
      "None\n",
      "True\n",
      "and\n",
      "as\n",
      "assert\n",
      "async\n",
      "await\n",
      "break\n",
      "class\n",
      "continue\n",
      "def\n",
      "del\n",
      "elif\n",
      "else\n",
      "except\n",
      "finally\n",
      "for\n",
      "from\n",
      "global\n",
      "if\n",
      "import\n",
      "in\n",
      "is\n",
      "lambda\n",
      "nonlocal\n",
      "not\n",
      "or\n",
      "pass\n",
      "raise\n",
      "return\n",
      "try\n",
      "while\n",
      "with\n",
      "yield\n"
     ]
    }
   ],
   "source": [
    "import keyword\n",
    "\n",
    "all_keywords = keyword.kwlist\n",
    "\n",
    "for keyword in all_keywords:\n",
    "    print(keyword)"
   ]
  },
  {
   "cell_type": "markdown",
   "id": "7862b8f8",
   "metadata": {},
   "source": [
    "Q.2. What are the rules to create variables in python?"
   ]
  },
  {
   "cell_type": "markdown",
   "id": "d5992e09",
   "metadata": {},
   "source": [
    ">The rules to create variable in phython are-:\n",
    "1)It must contantion alphabets,number and underscore.\n",
    "2)It must start with alphabet or underscore.\n",
    "3)It must not be keywords.\n"
   ]
  },
  {
   "cell_type": "markdown",
   "id": "4fb3da78",
   "metadata": {},
   "source": [
    "Q.3. What are the standards and conventions followed for the nomenclature of variables in\n",
    "python to improve code readability and maintainability?"
   ]
  },
  {
   "cell_type": "markdown",
   "id": "81a1e1bb",
   "metadata": {},
   "source": [
    "In Python, there are some commonly followed standards and conventions for variable naming to improve code readability and maintainability. Here are a few key guidelines:\n",
    "\n",
    ">1. Use descriptive names: Choose variable names that clearly indicate their purpose and meaning. Avoid single-letter variable names unless they have a well-understood context, such as loop counters (`i`, `j`, `k`).\n",
    "\n",
    ">2. Use lowercase with underscores: For multi-word variable names, separate the words with underscores (`snake_case`). This convention enhances readability and is widely adopted in the Python community.\n",
    "\n",
    ">3. Avoid reserved words: Do not use Python keywords or built-in function names as variable names to prevent conflicts and confusion. For example, avoid naming a variable `print`, `for`, or `if`.\n",
    "\n",
    ">4. Be consistent: Maintain consistent naming conventions throughout your codebase. If you have chosen a particular style for variable naming, stick to it consistently. This promotes code readability and reduces confusion.\n",
    "\n",
    ">5. Avoid misleading names: Choose variable names that accurately reflect the data or purpose they represent. Misleading names can lead to confusion and make the code harder to understand and maintain."
   ]
  },
  {
   "cell_type": "markdown",
   "id": "b1c68440",
   "metadata": {},
   "source": [
    "Q.4. What will happen if a keyword is used as a variable name?"
   ]
  },
  {
   "cell_type": "markdown",
   "id": "572116af",
   "metadata": {},
   "source": [
    ">If keyword is used as a variable name it gone a show Syntax error."
   ]
  },
  {
   "cell_type": "code",
   "execution_count": 11,
   "id": "b3392ad7",
   "metadata": {},
   "outputs": [
    {
     "ename": "SyntaxError",
     "evalue": "cannot assign to True (2852418037.py, line 1)",
     "output_type": "error",
     "traceback": [
      "\u001b[1;36m  Cell \u001b[1;32mIn[11], line 1\u001b[1;36m\u001b[0m\n\u001b[1;33m    True= 11\u001b[0m\n\u001b[1;37m    ^\u001b[0m\n\u001b[1;31mSyntaxError\u001b[0m\u001b[1;31m:\u001b[0m cannot assign to True\n"
     ]
    }
   ],
   "source": [
    "#Example\n",
    "True= 11\n",
    "print(True)"
   ]
  },
  {
   "cell_type": "markdown",
   "id": "70f8bdae",
   "metadata": {},
   "source": [
    "Q.5. For what purpose def keyword is used?"
   ]
  },
  {
   "cell_type": "markdown",
   "id": "0ff0c99d",
   "metadata": {},
   "source": [
    ">Def keyword is used to define user defined class."
   ]
  },
  {
   "cell_type": "code",
   "execution_count": 18,
   "id": "b6674d58",
   "metadata": {},
   "outputs": [
    {
     "name": "stdout",
     "output_type": "stream",
     "text": [
      "My name is kg\n"
     ]
    }
   ],
   "source": [
    "#example\n",
    "def myprogram():\n",
    "    print(\"My name is kg\")\n",
    "myprogram()"
   ]
  },
  {
   "cell_type": "markdown",
   "id": "02017c3d",
   "metadata": {},
   "source": [
    "Q.6. What is the operation of this special character ‘\\’?"
   ]
  },
  {
   "cell_type": "markdown",
   "id": "1f2058da",
   "metadata": {},
   "source": [
    ">The special character \"\\\" backslash can be used as a line continuation character. When placed at the end of a line, it indicates that the line continues to the next line. This is useful for breaking long lines of code into multiple lines for better readability."
   ]
  },
  {
   "cell_type": "code",
   "execution_count": 19,
   "id": "d298b4f8",
   "metadata": {},
   "outputs": [
    {
     "name": "stdout",
     "output_type": "stream",
     "text": [
      "60\n"
     ]
    }
   ],
   "source": [
    "#example\n",
    "total = 10 + \\\n",
    "        20 + \\\n",
    "        30\n",
    "print(total)"
   ]
  },
  {
   "cell_type": "markdown",
   "id": "2fc5b6f6",
   "metadata": {},
   "source": [
    "Q.7. Give an example of the following conditions:\n",
    "(i) Homogeneous list\n",
    "(ii) Heterogeneous set\n",
    "(iii) Homogeneous tuple"
   ]
  },
  {
   "cell_type": "markdown",
   "id": "00a55ca1",
   "metadata": {},
   "source": [
    ">Homogeneous list:\n",
    "A homogeneous list is a list where all elements have the same data type."
   ]
  },
  {
   "cell_type": "code",
   "execution_count": null,
   "id": "e655d8d4",
   "metadata": {},
   "outputs": [],
   "source": [
    "#example\n",
    "numbers = [1, 2, 3, 4, 5]\n",
    "print(number)"
   ]
  },
  {
   "cell_type": "markdown",
   "id": "082ce055",
   "metadata": {},
   "source": [
    "> Heterogeneous set:\n",
    "A heterogeneous set is a set where the elements can have different data types."
   ]
  },
  {
   "cell_type": "code",
   "execution_count": 22,
   "id": "4e146885",
   "metadata": {
    "scrolled": true
   },
   "outputs": [
    {
     "name": "stdout",
     "output_type": "stream",
     "text": [
      "{1, 3.14, 'apple'}\n"
     ]
    }
   ],
   "source": [
    "#example\n",
    "data = {1, 'apple', True, 3.14}\n",
    "print(data)"
   ]
  },
  {
   "cell_type": "markdown",
   "id": "80f5ff4c",
   "metadata": {},
   "source": [
    "> Homogeneous tuple:\n",
    "A homogeneous tuple is a tuple where all elements have the same data type."
   ]
  },
  {
   "cell_type": "code",
   "execution_count": null,
   "id": "06a37a72",
   "metadata": {},
   "outputs": [],
   "source": [
    "#example\n",
    "fruits = ('apple', 'banana', 'orange')\n",
    "print(fruits)"
   ]
  },
  {
   "cell_type": "markdown",
   "id": "6dac2159",
   "metadata": {},
   "source": [
    "Q.8. Explain the mutable and immutable data types with proper explanation & examples."
   ]
  },
  {
   "cell_type": "markdown",
   "id": "31da03eb",
   "metadata": {},
   "source": [
    ">In programming, mutable and immutable are terms used to describe whether an object or data type can be modified or changed after it is created. Immutable data types are those that cannot be modified once they are created, while mutable data types can be changed.\n",
    "Let's delve into each type in more detail:"
   ]
  },
  {
   "cell_type": "markdown",
   "id": "88418d0e",
   "metadata": {},
   "source": [
    ">1. Immutable data types:\n",
    "   Immutable data types are objects or values that cannot be modified after their creation. When you perform any operation on an immutable object, it creates a new object instead of modifying the existing one. This property ensures that the original data remains unchanged, which can be advantageous in certain scenarios such as multithreading or when you want to ensure data integrity."
   ]
  },
  {
   "cell_type": "markdown",
   "id": "f1dc6ebb",
   "metadata": {},
   "source": [
    " > Examples of immutable data types:\n",
    "  > - Strings: In many programming languages, strings are immutable. Once a string is created, you cannot modify individual characters or the length of the string directly. Instead, any operation that seems to modify the string creates a new string object."
   ]
  },
  {
   "cell_type": "code",
   "execution_count": null,
   "id": "2250910a",
   "metadata": {},
   "outputs": [],
   "source": [
    "#example\n",
    "string1 = \"Hello\"\n",
    "string2 = string1 + \" World\" \n",
    "print(string1)  \n",
    "print(string2)  "
   ]
  },
  {
   "cell_type": "markdown",
   "id": "b3476015",
   "metadata": {},
   "source": [
    ">- Numbers: In most programming languages, numbers such as integers and floating-point numbers are immutable. Operations like addition, subtraction, or multiplication on numbers always produce a new value."
   ]
  },
  {
   "cell_type": "code",
   "execution_count": null,
   "id": "81494cc4",
   "metadata": {},
   "outputs": [],
   "source": [
    " #example  \n",
    "number1 = 5\n",
    "number2 = number1 + 3  \n",
    "print(number1)  \n",
    "print(number2) "
   ]
  },
  {
   "cell_type": "markdown",
   "id": "2395d769",
   "metadata": {},
   "source": [
    "   \n",
    "\n",
    "> Tuples: Tuples are ordered collections of objects, and once created, their elements cannot be modified. You can create a new tuple by concatenating or slicing existing tuples."
   ]
  },
  {
   "cell_type": "code",
   "execution_count": 23,
   "id": "9a0bef13",
   "metadata": {},
   "outputs": [
    {
     "name": "stdout",
     "output_type": "stream",
     "text": [
      "(1, 2, 3)\n",
      "(1, 2, 3, 4)\n"
     ]
    }
   ],
   "source": [
    " #example  \n",
    "tuple1 = (1, 2, 3)\n",
    "tuple2 = tuple1 + (4,)  \n",
    "print(tuple1)  \n",
    "print(tuple2)  "
   ]
  },
  {
   "cell_type": "markdown",
   "id": "1a4d3620",
   "metadata": {},
   "source": [
    ">2. Mutable data types:\n",
    "   Mutable data types, as the name suggests, can be modified or changed after their creation. Unlike immutable types, mutable types allow in-place modifications, meaning you can alter their internal state directly without creating a new object. This can be useful when you need to update values frequently or when memory efficiency is a concern."
   ]
  },
  {
   "cell_type": "markdown",
   "id": "20da4a12",
   "metadata": {},
   "source": [
    ">Examples of mutable data types:\n",
    " > Lists: Lists are one of the most commonly used mutable data types. You can modify the elements of a list, change its size, or reorder its elements without creating a new list.\n"
   ]
  },
  {
   "cell_type": "code",
   "execution_count": null,
   "id": "0645a6fc",
   "metadata": {},
   "outputs": [],
   "source": [
    "#example\n",
    "list1 = [1, 2, 3]\n",
    "list1.append(4)  \n",
    "print(list1)  \n",
    "list1[0] = 5  \n",
    "print(list1) "
   ]
  },
  {
   "cell_type": "markdown",
   "id": "81f9a1ca",
   "metadata": {},
   "source": [
    "   \n",
    "\n",
    " >Dictionaries: Dictionaries are key-value pairs, and their values can be modified using the associated keys. Dictionaries are mutable, allowing you to add, modify, or delete key-value pairs."
   ]
  },
  {
   "cell_type": "code",
   "execution_count": null,
   "id": "a10aa311",
   "metadata": {},
   "outputs": [],
   "source": [
    "#example\n",
    "dict1 = {\"name\": \"Alice\", \"age\": 25}\n",
    "dict1[\"age\"] = 26 \n",
    "print(dict1)"
   ]
  },
  {
   "cell_type": "markdown",
   "id": "d2b1590e",
   "metadata": {},
   "source": [
    "Q9. Write a code to create the given structure using only for loop.\n",
    "*\n",
    "***\n",
    "*****\n",
    "*******\n",
    "*********"
   ]
  },
  {
   "cell_type": "code",
   "execution_count": 34,
   "id": "be162157",
   "metadata": {},
   "outputs": [
    {
     "name": "stdout",
     "output_type": "stream",
     "text": [
      "* \n",
      "* * * \n",
      "* * * * * \n",
      "* * * * * * * \n",
      "* * * * * * * * * \n"
     ]
    }
   ],
   "source": [
    "k=1;\n",
    "for j in range(5):\n",
    "    for i in range(0,k):\n",
    "        print(\"*\",end=\" \")\n",
    "    k=k+2\n",
    "    print()  "
   ]
  },
  {
   "cell_type": "markdown",
   "id": "56dedfff",
   "metadata": {},
   "source": [
    "Q.10. Write a code to create the given structure using while loop.\n",
    "|||||||||\n",
    "|||||||\n",
    "|||||\n",
    "|||\n",
    "|"
   ]
  },
  {
   "cell_type": "code",
   "execution_count": 37,
   "id": "2c02737b",
   "metadata": {},
   "outputs": [
    {
     "name": "stdout",
     "output_type": "stream",
     "text": [
      "| | | | | | | | | \n",
      "| | | | | | | \n",
      "| | | | | \n",
      "| | | \n",
      "| \n"
     ]
    }
   ],
   "source": [
    "k=9;\n",
    "for j in range(5):\n",
    "    for i in range(0,k):\n",
    "        print(\"|\",end=\" \")\n",
    "    k=k-2\n",
    "    print()  "
   ]
  }
 ],
 "metadata": {
  "kernelspec": {
   "display_name": "Python 3 (ipykernel)",
   "language": "python",
   "name": "python3"
  },
  "language_info": {
   "codemirror_mode": {
    "name": "ipython",
    "version": 3
   },
   "file_extension": ".py",
   "mimetype": "text/x-python",
   "name": "python",
   "nbconvert_exporter": "python",
   "pygments_lexer": "ipython3",
   "version": "3.10.9"
  }
 },
 "nbformat": 4,
 "nbformat_minor": 5
}
