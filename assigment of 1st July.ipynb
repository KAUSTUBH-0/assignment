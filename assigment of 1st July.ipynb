{
 "cells": [
  {
   "cell_type": "markdown",
   "id": "07f89a4c",
   "metadata": {},
   "source": [
    "1. What is the primary goal of Object-Oriented Programming (OOP)?"
   ]
  },
  {
   "cell_type": "markdown",
   "id": "40b334a4",
   "metadata": {},
   "source": [
    ">The primary goal of Object-Oriented Programming (OOP) is to provide a way to structure and organize code by representing real-world objects as software objects. OOP promotes the concept of modularity, reusability, and encapsulation by combining data (attributes) and behaviors (methods) into objects."
   ]
  },
  {
   "cell_type": "markdown",
   "id": "4131ac1f",
   "metadata": {},
   "source": [
    "2. What is an object in Python?"
   ]
  },
  {
   "cell_type": "markdown",
   "id": "4281156d",
   "metadata": {},
   "source": [
    ">In Python, an object is an instance of a class. It is a concrete entity that occupies memory and can be manipulated through variables. Objects have attributes (data) and behaviors (methods) associated with them. They are created from a class definition and can interact with other objects through method calls and attribute access."
   ]
  },
  {
   "cell_type": "markdown",
   "id": "69c1a7a5",
   "metadata": {},
   "source": [
    "3. What is a class in Python?"
   ]
  },
  {
   "cell_type": "markdown",
   "id": "fb830e12",
   "metadata": {},
   "source": [
    ">In Python, a class is a blueprint or template that defines the structure and behavior of objects. It serves as a blueprint for creating instances (objects) of that class. A class defines attributes (data) and methods (functions) that describe the characteristics and behavior of the objects. Objects created from the same class share the same attributes and behaviors defined in the class."
   ]
  },
  {
   "cell_type": "markdown",
   "id": "09847c4f",
   "metadata": {},
   "source": [
    "4. What are attributes and methods in a class?"
   ]
  },
  {
   "cell_type": "markdown",
   "id": "98e6200a",
   "metadata": {},
   "source": [
    ">Attributes are the data or variables associated with a class or object. They represent the state of the object and hold information about its characteristics. Attributes can be accessed and modified using dot notation (e.g., object.attribute). Methods, on the other hand, are functions defined within a class that define the behavior of the class or objects. They can operate on the object's attributes and perform actions or computations."
   ]
  },
  {
   "cell_type": "markdown",
   "id": "a7150506",
   "metadata": {},
   "source": [
    "5. What is the difference between class variables and instance variables in Python?"
   ]
  },
  {
   "cell_type": "markdown",
   "id": "838841a1",
   "metadata": {},
   "source": [
    ">Class variables are variables that are shared among all instances (objects) of a class. They are defined within the class but outside of any method. Class variables have the same value for all instances of the class. Instance variables, on the other hand, are unique to each instance of a class. They are defined within methods or the constructor and have different values for different instances of the class."
   ]
  },
  {
   "cell_type": "markdown",
   "id": "90fc72ea",
   "metadata": {},
   "source": [
    "6. What is the purpose of the self parameter in Python class methods?"
   ]
  },
  {
   "cell_type": "markdown",
   "id": "9c9c351d",
   "metadata": {},
   "source": [
    ">The self parameter in Python class methods refers to the instance of the class itself. It is a convention in Python to use the name self as the first parameter of instance methods (but you can choose any valid parameter name). By using self, methods can access and manipulate the instance variables and call other methods within the class. When an instance method is called, the instance itself is automatically passed as the self parameter."
   ]
  },
  {
   "cell_type": "markdown",
   "id": "87c0e3a7",
   "metadata": {},
   "source": [
    "7. For a library management system, you have to design the \"Book\" class with OOP\n",
    "    principles in mind. The “Book” class will have following attributes:\n",
    "a. title: Represents the title of the book.\n",
    "b. author: Represents the author(s) of the book.\n",
    "c. isbn: Represents the ISBN (International Standard Book Number) of the book.\n",
    "d. publication_year: Represents the year of publication of the book.\n",
    "e. available_copies: Represents the number of copies available for checkout.\n",
    "The class will also include the following methods:\n",
    "a. check_out(self): Decrements the available copies by one if there are copies\n",
    "available for checkout.\n",
    "b. return_book(self): Increments the available copies by one when a book is\n",
    "returned.\n",
    "c. display_book_info(self): Displays the information about the book, including its\n",
    "attributes and the number of available copies."
   ]
  },
  {
   "cell_type": "code",
   "execution_count": 10,
   "id": "46b99f56",
   "metadata": {},
   "outputs": [],
   "source": [
    "class Book:\n",
    "    def __init__(self,title,author,isbn,publication_year,available_copies):\n",
    "        self.title=title\n",
    "        self.author=author\n",
    "        self.isbn=isbn\n",
    "        self.publication_year=publication_year\n",
    "        self.available_copies=available_copies\n",
    "        \n",
    "    def check_out(self):\n",
    "        if self.available_copies>0:\n",
    "            self.available_copies = self.available_copies - 1\n",
    "        else :\n",
    "            print(\"No copies available\")\n",
    "    \n",
    "    def return_book(self):\n",
    "        self.available_copies = self.available_copies + 1\n",
    "    \n",
    "    def display_book_info(self):\n",
    "        print(\"Title:\",self.title)\n",
    "        print(\"Author(s):\",self.author)\n",
    "        print(\"ISBN:\",self.isbn)\n",
    "        print(\"Publication Year:\",self.publication_year)\n",
    "        print(\"Available Copies:\",self.available_copies)      "
   ]
  },
  {
   "cell_type": "code",
   "execution_count": 11,
   "id": "e563ab10",
   "metadata": {},
   "outputs": [
    {
     "name": "stdout",
     "output_type": "stream",
     "text": [
      "Title: The Catcher in the Rye\n",
      "Author(s): J.D. Salinger\n",
      "ISBN: 9780316769488\n",
      "Publication Year: 1951\n",
      "Available Copies: 2\n"
     ]
    }
   ],
   "source": [
    "# Create an instance of the Book class\n",
    "book1 = Book(\"The Catcher in the Rye\", \"J.D. Salinger\", \"9780316769488\", 1951, 3)\n",
    "book1.check_out()\n",
    "book1.display_book_info()"
   ]
  },
  {
   "cell_type": "markdown",
   "id": "ff772283",
   "metadata": {},
   "source": [
    "8. For a ticket booking system, you have to design the \"Ticket\" class with OOP\n",
    "   principles in mind. The “Ticket” class should have the following attributes:\n",
    "a. ticket_id: Represents the unique identifier for the ticket.\n",
    "b. event_name: Represents the name of the event.\n",
    "c. event_date: Represents the date of the event.\n",
    "d. venue: Represents the venue of the event.\n",
    "e. seat_number: Represents the seat number associated with the ticket.\n",
    "f. price: Represents the price of the ticket.\n",
    "g. is_reserved: Represents the reservation status of the ticket.\n",
    "The class also includes the following methods:\n",
    "a. reserve_ticket(self): Marks the ticket as reserved if it is not already reserved.\n",
    "b. cancel_reservation(self): Cancels the reservation of the ticket if it is already\n",
    "reserved.\n",
    "c. display_ticket_info(self): Displays the information about the ticket, including its\n",
    "attributes and reservation status."
   ]
  },
  {
   "cell_type": "code",
   "execution_count": 24,
   "id": "d51049eb",
   "metadata": {},
   "outputs": [],
   "source": [
    "class Ticket:\n",
    "    def __init__(self, ticket_id, event_name, event_date, venue, seat_number, price):\n",
    "        self.ticket_id = ticket_id\n",
    "        self.event_name = event_name\n",
    "        self.event_date = event_date\n",
    "        self.venue = venue\n",
    "        self.seat_number = seat_number\n",
    "        self.price = price\n",
    "        self.is_reserved = False\n",
    "    \n",
    "    def reserve_ticket(self):\n",
    "        if self.reserve_ticket == \"False\" :\n",
    "            self.is_reserved = True\n",
    "            print(\"Ticket reserved.\")\n",
    "        else:\n",
    "            print(\"Ticket is already reserved.\")\n",
    "            \n",
    "    def cancel_reservation(self):\n",
    "        if self.is_reserved == \"True\" :\n",
    "            self.is_reserved = False\n",
    "            print(\"Reservation canceled.\")\n",
    "        else :\n",
    "            print(\"Ticket is not reserved.\")\n",
    "    def  display_ticket_info(self):\n",
    "        print(\"Ticket ID:\", self.ticket_id)\n",
    "        print(\"Event Name:\", self.event_name)\n",
    "        print(\"Event Date:\", self.event_date)\n",
    "        print(\"Venue:\", self.venue)\n",
    "        print(\"Seat Number:\", self.seat_number)\n",
    "        print(\"Price:\", self.price)\n",
    "        print(\"Reservation Status:\", \"Reserved\" if self.is_reserved else \"Not Reserved\") "
   ]
  },
  {
   "cell_type": "markdown",
   "id": "3523a29a",
   "metadata": {},
   "source": [
    "9. You are creating a shopping cart for an e-commerce website. Using OOP to model\n",
    "   the \"ShoppingCart\" functionality the class should contain following attributes and\n",
    "   methods:\n",
    "a. items: Represents the list of items in the shopping cart.\n",
    "The class also includes the following methods:\n",
    "\n",
    "a. add_item(self, item): Adds an item to the shopping cart by appending it to the\n",
    "list of items.\n",
    "b. remove_item(self, item): Removes an item from the shopping cart if it exists in\n",
    "the list.\n",
    "c. view_cart(self): Displays the items currently present in the shopping cart.\n",
    "d. clear_cart(self): Clears all items from the shopping cart by reassigning an\n",
    "empty list to the items attribute."
   ]
  },
  {
   "cell_type": "code",
   "execution_count": null,
   "id": "0951ac7c",
   "metadata": {},
   "outputs": [],
   "source": [
    "class ShoppingCart:\n",
    "    def __init__(self):\n",
    "        self.items = []\n",
    "\n",
    "    def add_item(self, item):\n",
    "        self.items.append(item)\n",
    "        print(\"Item added to the shopping cart.\")\n",
    "\n",
    "    def remove_item(self, item):\n",
    "        if item in self.items:\n",
    "            self.items.remove(item)\n",
    "            print(\"Item removed from the shopping cart.\")\n",
    "        else:\n",
    "            print(\"Item not found in the shopping cart.\")\n",
    "\n",
    "    def view_cart(self):\n",
    "        if self.items:\n",
    "            print(\"Items in the shopping cart:\")\n",
    "            for item in self.items:\n",
    "                print(\"- \", item)\n",
    "        else:\n",
    "            print(\"Shopping cart is empty.\")\n",
    "\n",
    "    def clear_cart(self):\n",
    "        self.items = []\n",
    "        print(\"Shopping cart cleared.\")"
   ]
  },
  {
   "cell_type": "markdown",
   "id": "6184b052",
   "metadata": {},
   "source": [
    "10. Imagine a school management system. You have to design the \"Student\" class using\n",
    "OOP concepts.The “Student” class has the following attributes:\n",
    "a. name: Represents the name of the student.\n",
    "b. age: Represents the age of the student.\n",
    "c. grade: Represents the grade or class of the student.\n",
    "d. student_id: Represents the unique identifier for the student.\n",
    "e. attendance: Represents the attendance record of the student.\n",
    "The class should also include the following methods:\n",
    "a. update_attendance(self, date, status): Updates the attendance record of the\n",
    "student for a given date with the provided status (e.g., present or absent).\n",
    "b. get_attendance(self): Returns the attendance record of the student.\n",
    "c. get_average_attendance(self): Calculates and returns the average\n",
    "attendance percentage of the student based on their attendance record."
   ]
  },
  {
   "cell_type": "code",
   "execution_count": 25,
   "id": "d777398d",
   "metadata": {},
   "outputs": [],
   "source": [
    "class Student:\n",
    "    def __init__(self, name, age, grade, student_id):\n",
    "        self.name = name\n",
    "        self.age = age\n",
    "        self.grade = grade\n",
    "        self.student_id = student_id\n",
    "        self.attendance = {}\n",
    "\n",
    "    def update_attendance(self, date, status):\n",
    "        self.attendance[date] = status\n",
    "\n",
    "    def get_attendance(self):\n",
    "        return self.attendance\n",
    "\n",
    "    def get_average_attendance(self):\n",
    "        if self.attendance:\n",
    "            total_days = len(self.attendance)\n",
    "            present_days = sum(1 for status in self.attendance.values() if status == \"present\")\n",
    "            attendance_percentage = (present_days / total_days) * 100\n",
    "            return attendance_percentage\n",
    "        else:\n",
    "            return 0"
   ]
  }
 ],
 "metadata": {
  "kernelspec": {
   "display_name": "Python 3 (ipykernel)",
   "language": "python",
   "name": "python3"
  },
  "language_info": {
   "codemirror_mode": {
    "name": "ipython",
    "version": 3
   },
   "file_extension": ".py",
   "mimetype": "text/x-python",
   "name": "python",
   "nbconvert_exporter": "python",
   "pygments_lexer": "ipython3",
   "version": "3.10.9"
  }
 },
 "nbformat": 4,
 "nbformat_minor": 5
}
