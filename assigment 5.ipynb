{
 "cells": [
  {
   "cell_type": "markdown",
   "id": "1c498236",
   "metadata": {},
   "source": [
    "1. What does an empty dictionary's code look like?"
   ]
  },
  {
   "cell_type": "markdown",
   "id": "f441f3c7",
   "metadata": {},
   "source": [
    ">Let us consider a variable 'a' and inatilize it as empty dictionary variable."
   ]
  },
  {
   "cell_type": "code",
   "execution_count": 3,
   "id": "6a0e482e",
   "metadata": {},
   "outputs": [],
   "source": [
    "a={'':''}\n",
    "print(a)"
   ]
  },
  {
   "cell_type": "markdown",
   "id": "cd005cb9",
   "metadata": {},
   "source": [
    "2. What is the value of a dictionary value with the key 'foo' and the value 42?"
   ]
  },
  {
   "cell_type": "markdown",
   "id": "35511abe",
   "metadata": {},
   "source": [
    ">Let us consider a variable 'a' and inatilizeas  it with the key 'foo' and the value 42."
   ]
  },
  {
   "cell_type": "code",
   "execution_count": 5,
   "id": "8b53ac05",
   "metadata": {},
   "outputs": [
    {
     "name": "stdout",
     "output_type": "stream",
     "text": [
      "{'foo': 42}\n"
     ]
    }
   ],
   "source": [
    "a={\"foo\":42}\n",
    "print(a)"
   ]
  },
  {
   "cell_type": "markdown",
   "id": "06c833d1",
   "metadata": {},
   "source": [
    "3. What is the most significant distinction between a dictionary and a list?"
   ]
  },
  {
   "cell_type": "markdown",
   "id": "7022f420",
   "metadata": {},
   "source": [
    ">The most significant distinction between a dictionary and a list in Python is their underlying data structure and how they store and organize data."
   ]
  },
  {
   "cell_type": "markdown",
   "id": "1005cfae",
   "metadata": {},
   "source": [
    ">List: A list is an ordered collection of elements, where each element is assigned an index starting from 0."
   ]
  },
  {
   "cell_type": "markdown",
   "id": "177895e3",
   "metadata": {},
   "source": [
    ">A dictionary is an unordered collection of key-value pairs. Each key within a dictionary is unique, and which is used to retrieve the corresponding value."
   ]
  },
  {
   "cell_type": "markdown",
   "id": "af796132",
   "metadata": {},
   "source": [
    "4. What happens if you try to access spam[foo] if spam is {bar: 100}?"
   ]
  },
  {
   "cell_type": "markdown",
   "id": "1b0132cf",
   "metadata": {},
   "source": [
    ">If we try to access spam[foo] after assigning spamwith key bar and value 100 ,it gone show key error"
   ]
  },
  {
   "cell_type": "code",
   "execution_count": 6,
   "id": "5ada95aa",
   "metadata": {},
   "outputs": [
    {
     "ename": "KeyError",
     "evalue": "'foo'",
     "output_type": "error",
     "traceback": [
      "\u001b[1;31m---------------------------------------------------------------------------\u001b[0m",
      "\u001b[1;31mKeyError\u001b[0m                                  Traceback (most recent call last)",
      "Cell \u001b[1;32mIn[6], line 2\u001b[0m\n\u001b[0;32m      1\u001b[0m spam\u001b[38;5;241m=\u001b[39m{\u001b[38;5;124m\"\u001b[39m\u001b[38;5;124mbar\u001b[39m\u001b[38;5;124m\"\u001b[39m:\u001b[38;5;241m100\u001b[39m}\n\u001b[1;32m----> 2\u001b[0m \u001b[38;5;28mprint\u001b[39m(\u001b[43mspam\u001b[49m\u001b[43m[\u001b[49m\u001b[38;5;124;43m\"\u001b[39;49m\u001b[38;5;124;43mfoo\u001b[39;49m\u001b[38;5;124;43m\"\u001b[39;49m\u001b[43m]\u001b[49m)\n",
      "\u001b[1;31mKeyError\u001b[0m: 'foo'"
     ]
    }
   ],
   "source": [
    "spam={\"bar\":100}\n",
    "print(spam[\"foo\"])"
   ]
  },
  {
   "cell_type": "markdown",
   "id": "9613d1cf",
   "metadata": {},
   "source": [
    "5. If a dictionary is stored in spam, what is the difference between the expressions 'cat' in spam and 'cat' in spam.keys()? "
   ]
  },
  {
   "cell_type": "markdown",
   "id": "209bc4d1",
   "metadata": {},
   "source": [
    ">In most cases, the results of these two expressions will be the same. However, there is a subtle difference in performance and efficiency:\n",
    "\n",
    ">'cat' in spam directly checks the dictionary's keys without generating an intermediate list of keys, so it can be more efficient, especially for large dictionaries.\n",
    "\n",
    ">'cat' in spam.keys() explicitly generates a list of all keys using the keys() method, which increases  a slight overhead in terms of memory and computation."
   ]
  },
  {
   "cell_type": "code",
   "execution_count": 8,
   "id": "4cde6073",
   "metadata": {},
   "outputs": [
    {
     "name": "stdout",
     "output_type": "stream",
     "text": [
      "True\n",
      "True\n"
     ]
    }
   ],
   "source": [
    "#example\n",
    "spam={\"cat\":2,\"dog\":1}\n",
    "print((\"cat\" in spam))\n",
    "print((\"cat\" in spam.keys()))"
   ]
  },
  {
   "cell_type": "markdown",
   "id": "31456241",
   "metadata": {},
   "source": [
    "6. If a dictionary is stored in spam, what is the difference between the expressions 'cat' in spam and 'cat' in spam.values()?"
   ]
  },
  {
   "cell_type": "markdown",
   "id": "1ac50b31",
   "metadata": {},
   "source": [
    ">There is a major difference between the expressions 'cat' in spam and 'cat' in spam.values().\n",
    " \n",
    ">'cat' in spam checks only the whether cat is present in the keys of dictionary or not while,\n",
    "\n",
    "> 'cat' in spam.values() checks where cat is present in values of given keys."
   ]
  },
  {
   "cell_type": "code",
   "execution_count": 12,
   "id": "a0b498d7",
   "metadata": {},
   "outputs": [
    {
     "name": "stdout",
     "output_type": "stream",
     "text": [
      "True\n",
      "False\n",
      "True\n"
     ]
    }
   ],
   "source": [
    "spam={\"cat\":2,\"dog\":1}\n",
    "print((\"cat\" in spam))\n",
    "spam={\"cat\":2,\"dog\":1}\n",
    "print((\"cat\" in spam.values())) \n",
    "# but if we include it in spam keys value then \n",
    "spam={\"cat\":2,\"dog\":1,\"meow\":\"cat\"}\n",
    "print((\"cat\" in spam.values()))"
   ]
  },
  {
   "cell_type": "markdown",
   "id": "45bbf2d7",
   "metadata": {},
   "source": [
    "7. What is a shortcut for the following code?\n",
    "if \"color\" not in spam:\n",
    "spam[\"color\"] = \"black\""
   ]
  },
  {
   "cell_type": "markdown",
   "id": "fd33cd0c",
   "metadata": {},
   "source": [
    ">To include above code in spam we will use update function"
   ]
  },
  {
   "cell_type": "code",
   "execution_count": 13,
   "id": "0a420cd6",
   "metadata": {},
   "outputs": [
    {
     "name": "stdout",
     "output_type": "stream",
     "text": [
      "{'cat': 2, 'dog': 1, 'meow': 'cat', 'colour': 'black'}\n"
     ]
    }
   ],
   "source": [
    "spam.update({\"colour\":\"black\"})\n",
    "print(spam)"
   ]
  },
  {
   "cell_type": "markdown",
   "id": "5d94e56d",
   "metadata": {},
   "source": [
    "8. How do you \"pretty print\"dictionary values using which module and function?"
   ]
  },
  {
   "cell_type": "markdown",
   "id": "8b423ed5",
   "metadata": {},
   "source": [
    ">To \"pretty print\" dictionary values in Python, you can use the pprint module, which provides a pprint() function for formatting and printing data structures."
   ]
  },
  {
   "cell_type": "code",
   "execution_count": 14,
   "id": "cf35c55e",
   "metadata": {},
   "outputs": [
    {
     "name": "stdout",
     "output_type": "stream",
     "text": [
      "{'cat': 2, 'colour': 'black', 'dog': 1, 'meow': 'cat'}\n"
     ]
    }
   ],
   "source": [
    "#example\n",
    "import pprint\n",
    "pprint.pprint(spam)\n"
   ]
  }
 ],
 "metadata": {
  "kernelspec": {
   "display_name": "Python 3 (ipykernel)",
   "language": "python",
   "name": "python3"
  },
  "language_info": {
   "codemirror_mode": {
    "name": "ipython",
    "version": 3
   },
   "file_extension": ".py",
   "mimetype": "text/x-python",
   "name": "python",
   "nbconvert_exporter": "python",
   "pygments_lexer": "ipython3",
   "version": "3.10.9"
  }
 },
 "nbformat": 4,
 "nbformat_minor": 5
}
