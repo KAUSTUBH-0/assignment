{
 "cells": [
  {
   "cell_type": "markdown",
   "id": "95e0941e",
   "metadata": {},
   "source": [
    "1. What are the two values of the Boolean data type? How do you write them?"
   ]
  },
  {
   "cell_type": "markdown",
   "id": "76ca46eb",
   "metadata": {},
   "source": [
    "Two values of boolean data type is \n",
    "1> true\n",
    "2> false\n",
    "It should not be in capital letter"
   ]
  },
  {
   "cell_type": "markdown",
   "id": "3b95ec3d",
   "metadata": {},
   "source": [
    "2. What are the three different types of Boolean operators?"
   ]
  },
  {
   "cell_type": "markdown",
   "id": "bdea9c22",
   "metadata": {},
   "source": [
    "Three different types of boolean operator is\n",
    "1> and\n",
    "2> or\n",
    "3> not"
   ]
  },
  {
   "cell_type": "markdown",
   "id": "98406d01",
   "metadata": {},
   "source": [
    "3. Make a list of each Boolean operator's truth tables (i.e. every possible combination of Boolean values for the operator and what it evaluate )."
   ]
  },
  {
   "cell_type": "markdown",
   "id": "928a3c59",
   "metadata": {},
   "source": [
    "> Truth table for the and operator:\n",
    "\n",
    "Operand 1 Operand 2 Result\n",
    "True\t  True\t   True\n",
    "True\t  False\t    False\n",
    "False\t  True\t   False\n",
    "False\t  False\t    False\n",
    "\n",
    ">Truth table for the or operator:\n",
    "\n",
    "Operand 1\tOperand 2\tResult\n",
    "True\t     True \t    True\n",
    "True\t     False \t    True\n",
    "False\t     True       True\n",
    "False\t     False      False\n",
    "\n",
    ">Truth table for the not operator:\n",
    "\n",
    "Operand  \tResult\n",
    "True\t    False\n",
    "False\t    True"
   ]
  },
  {
   "cell_type": "markdown",
   "id": "6bf3627b",
   "metadata": {},
   "source": [
    "4. What are the values of the following expressions?\n",
    "1.(5 > 4) and (3 == 5)\n",
    "2.not (5 > 4)\n",
    "3.(5 > 4) or (3 == 5)\n",
    "4.not ((5 > 4) or (3 == 5))\n",
    "5.(True and True) and (True == False)\n",
    "6.(not False) or (not True)"
   ]
  },
  {
   "cell_type": "markdown",
   "id": "0a1eb512",
   "metadata": {},
   "source": [
    "1.false\n",
    "2.false\n",
    "3.true\n",
    "4.false\n",
    "5.false\n",
    "6.true"
   ]
  },
  {
   "cell_type": "markdown",
   "id": "a0fdbe6e",
   "metadata": {},
   "source": [
    "5. What are the six comparison operators?"
   ]
  },
  {
   "cell_type": "markdown",
   "id": "c3b14093",
   "metadata": {},
   "source": [
    "Six comparison operator in python is\n",
    "1.greater than(>)\n",
    "2.lss than(<)\n",
    "3.equal to(= = )\n",
    "4.greater than equal to(>=)\n",
    "5.less than equal to(<=)\n",
    "6.not equal to(!=)"
   ]
  },
  {
   "cell_type": "markdown",
   "id": "7dfc49f4",
   "metadata": {},
   "source": [
    "6. How do you tell the difference between the equal to and assignment operators?Describe a\n",
    "   condition and when you would use one."
   ]
  },
  {
   "cell_type": "markdown",
   "id": "e2cd9505",
   "metadata": {},
   "source": [
    ">Equal to (==) operator:\n",
    "\n",
    ". The double equals (==) operator is a comparison operator used to check if two values are equal.\n",
    ". It returns a Boolean value (True or False) based on the comparison result.\n",
    "\n",
    "  While in assingment operator\n",
    "\n",
    ">Assignment (=) operator:\n",
    "\n",
    ".The single equals (=) operator is an assignment operator used to assign a value to a variable.\n",
    ".It assigns the value on the right-hand side of the operator to the variable on the left-hand side."
   ]
  },
  {
   "cell_type": "code",
   "execution_count": 1,
   "id": "b68da31f",
   "metadata": {},
   "outputs": [
    {
     "name": "stdout",
     "output_type": "stream",
     "text": [
      "x and y are not equal\n"
     ]
    }
   ],
   "source": [
    "#for example\n",
    "x = 15\n",
    "y = 10\n",
    "\n",
    "if x == y:\n",
    "    print(\"x and y are equal\")\n",
    "else:\n",
    "    print(\"x and y are not equal\")\n",
    "# In the above example, the equal to operator (==) compares the values of x and y. \n",
    "#If they are equal, it prints \"x and y are equal\"; otherwise, it prints \"x and y are not equal\"."
   ]
  },
  {
   "cell_type": "code",
   "execution_count": 2,
   "id": "523021a4",
   "metadata": {},
   "outputs": [
    {
     "name": "stdout",
     "output_type": "stream",
     "text": [
      "12\n"
     ]
    }
   ],
   "source": [
    "x = 10\n",
    "y = x + 2\n",
    "\n",
    "print(y)\n",
    "#In the above example, the assignment operator (=) assigns the value of x + 2 to the variable y. \n",
    "#The value of x is added with 2, and the assigns in y and give output 12."
   ]
  },
  {
   "cell_type": "markdown",
   "id": "fb530b60",
   "metadata": {},
   "source": [
    "7. Identify the three blocks in this code:\n",
    "spam = 0\n",
    "if spam == 10:\n",
    " print('eggs')\n",
    "if spam > 5:\n",
    " print('bacon')\n",
    "else:\n",
    " print('ham')\n",
    " print('spam')\n",
    " print('spam')"
   ]
  },
  {
   "cell_type": "code",
   "execution_count": 5,
   "id": "f08d2815",
   "metadata": {},
   "outputs": [
    {
     "name": "stdout",
     "output_type": "stream",
     "text": [
      "ham\n",
      "spam\n",
      "spam\n"
     ]
    }
   ],
   "source": [
    "spam = 0\n",
    "if spam == 10:  # in this condition spam is check whether it is equal to 10 or not.\n",
    " print('eggs')\n",
    "if spam > 5:  # in this condition spam is check whether it is greater than 5 or not. \n",
    " print('bacon')\n",
    "else:         # this condition will run when abive conditions are wrong.\n",
    " print('ham')   \n",
    " print('spam')  \n",
    " print('spam')"
   ]
  },
  {
   "cell_type": "markdown",
   "id": "e8a153b0",
   "metadata": {},
   "source": [
    "As spam =0 therefore above all condition is false so else part execute and give output\n",
    "ham\n",
    "spam\n",
    "spam"
   ]
  },
  {
   "cell_type": "markdown",
   "id": "909c4c19",
   "metadata": {},
   "source": [
    "8. Write code that prints Hello if 1 is stored in spam, prints Howdy if 2 is stored in spam, and prints Greetings! if anything else is stored in spam."
   ]
  },
  {
   "cell_type": "code",
   "execution_count": 7,
   "id": "b41aeee3",
   "metadata": {},
   "outputs": [
    {
     "name": "stdout",
     "output_type": "stream",
     "text": [
      "Enter a no 4\n",
      "Greetings!\n"
     ]
    }
   ],
   "source": [
    "spam=int(input(\"Enter a no \"))\n",
    "if spam==1:\n",
    "    print(\"Hello\")\n",
    "if spam==2:\n",
    "    print(\"Howdy\")\n",
    "else:\n",
    "    print(\"Greetings!\")"
   ]
  },
  {
   "cell_type": "markdown",
   "id": "a0d51e11",
   "metadata": {},
   "source": [
    "9. If your programme is stuck in an endless loop, what keys you’ll press?"
   ]
  },
  {
   "cell_type": "markdown",
   "id": "1e8fd5e7",
   "metadata": {},
   "source": [
    "Ctrl + C: This key combination is commonly used to send an interrupt signal to the running program. Pressing Ctrl + C should terminate the program and bring you back to the command line or stop the execution in most Python development environments."
   ]
  },
  {
   "cell_type": "markdown",
   "id": "c83cd6a9",
   "metadata": {},
   "source": [
    "10. How can you tell the difference between break and continue?"
   ]
  },
  {
   "cell_type": "markdown",
   "id": "e2f34f18",
   "metadata": {},
   "source": [
    ">break statement:\n",
    " \n",
    ".When encountered within a loop (such as a for or while loop), the break statement immediately  terminates the loop and transfers the control to the next statement after the loop.\n",
    ".It is typically used when a certain condition is met, and you want to exit the loop prematurely, without executing any remaining iterations."
   ]
  },
  {
   "cell_type": "code",
   "execution_count": 3,
   "id": "20ca4a6f",
   "metadata": {},
   "outputs": [
    {
     "name": "stdout",
     "output_type": "stream",
     "text": [
      "1\n",
      "2\n"
     ]
    }
   ],
   "source": [
    "# example\n",
    "for i in range(1, 6):\n",
    "    if i == 3:\n",
    "        break\n",
    "    print(i)\n",
    "\n"
   ]
  },
  {
   "cell_type": "markdown",
   "id": "3f3a66d8",
   "metadata": {},
   "source": [
    ">continue statement:\n",
    "\n",
    ".When encountered within a loop, the continue statement immediately skips the rest of the current        iteration and moves to the next iteration of the loop.\n",
    ".It is typically used when you want to skip specific iterations based on a certain condition, but        continue executing the remaining iterations."
   ]
  },
  {
   "cell_type": "code",
   "execution_count": 4,
   "id": "6e2b3f27",
   "metadata": {},
   "outputs": [
    {
     "name": "stdout",
     "output_type": "stream",
     "text": [
      "1\n",
      "2\n",
      "4\n",
      "5\n"
     ]
    }
   ],
   "source": [
    "# example\n",
    "for i in range(1, 6):\n",
    "    if i == 3:\n",
    "        continue\n",
    "    print(i)\n"
   ]
  },
  {
   "cell_type": "markdown",
   "id": "0a22ac1a",
   "metadata": {},
   "source": [
    "11. In a for loop, what is the difference between range(10), range(0, 10), and range(0, 10, 1)?"
   ]
  },
  {
   "cell_type": "markdown",
   "id": "5d5f7f19",
   "metadata": {},
   "source": [
    "In a for loop, range(10), range(0, 10), and range(0, 10, 1) are different ways to generate a sequence of numbers that the loop will iterate over. However, they have slight differences in their syntax and behavior:\n",
    ">range(10):\n",
    ".This creates a range object that generates a sequence of numbers from 0 to 9 (exclusive of 10) by default.\n",
    ".It starts from 0 and increments by 1 for each subsequent number.\n",
    ".The step value implicitly increase by 1.\n",
    ">range(0, 10):\n",
    ".This creates a range object that generates a sequence of numbers from 0 to 9 (exclusive of 10).\n",
    ".It explicitly specifies the starting point (0) and the ending point (10-1 = 9).\n",
    ".The step value implicitly increase by 1.\n",
    ">range(0, 10, 1):\n",
    ".This creates a range object that generates a sequence of numbers from 0 to 9 (exclusive of 10).\n",
    ".It explicitly specifies the starting point (0), the ending point (10-1 = 9), and the step value (1).\n",
    ".The step value determines the increment between consecutive numbers in the sequence.\n",
    ".In this case, the step value is 1, so the numbers increase by 1 in each iteration."
   ]
  },
  {
   "cell_type": "markdown",
   "id": "3f2b2804",
   "metadata": {},
   "source": [
    "12. Write a short program that prints the numbers 1 to 10 using a for loop. Then write an equivalent\n",
    "program that prints the numbers 1 to 10 using a while loop."
   ]
  },
  {
   "cell_type": "code",
   "execution_count": 6,
   "id": "49586a8b",
   "metadata": {},
   "outputs": [
    {
     "name": "stdout",
     "output_type": "stream",
     "text": [
      "1\n",
      "2\n",
      "3\n",
      "4\n",
      "5\n",
      "6\n",
      "7\n",
      "8\n",
      "9\n",
      "10\n"
     ]
    }
   ],
   "source": [
    "for i in range(1,11):\n",
    "    print(i)"
   ]
  },
  {
   "cell_type": "code",
   "execution_count": 2,
   "id": "9e032964",
   "metadata": {},
   "outputs": [
    {
     "name": "stdout",
     "output_type": "stream",
     "text": [
      "1\n",
      "2\n",
      "3\n",
      "4\n",
      "5\n",
      "6\n",
      "7\n",
      "8\n",
      "9\n",
      "10\n"
     ]
    }
   ],
   "source": [
    "i=1\n",
    "while i<=10:\n",
    "    print(i)\n",
    "    i+=1\n"
   ]
  },
  {
   "cell_type": "markdown",
   "id": "baed2c86",
   "metadata": {},
   "source": [
    "13. If you had a function named bacon() inside a module named spam, how would you call it after\n",
    "    importing spam?"
   ]
  },
  {
   "cell_type": "markdown",
   "id": "6a7cd606",
   "metadata": {},
   "source": [
    "By using following syntax \n",
    "> import spam\n",
    " spam.bacon()\n",
    "\n",
    "import spam imports the spam module into your current Python  program. The spam.bacon()  statement then calls the bacon() function from the spam module.\n"
   ]
  }
 ],
 "metadata": {
  "kernelspec": {
   "display_name": "Python 3 (ipykernel)",
   "language": "python",
   "name": "python3"
  },
  "language_info": {
   "codemirror_mode": {
    "name": "ipython",
    "version": 3
   },
   "file_extension": ".py",
   "mimetype": "text/x-python",
   "name": "python",
   "nbconvert_exporter": "python",
   "pygments_lexer": "ipython3",
   "version": "3.10.9"
  }
 },
 "nbformat": 4,
 "nbformat_minor": 5
}
