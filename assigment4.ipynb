{
 "cells": [
  {
   "cell_type": "markdown",
   "id": "05e09eba",
   "metadata": {},
   "source": [
    "1. What exactly is []?"
   ]
  },
  {
   "cell_type": "markdown",
   "id": "e5733b37",
   "metadata": {},
   "source": [
    "[] is exactly used to represnt list  in python and called square braces general. "
   ]
  },
  {
   "cell_type": "markdown",
   "id": "dd900ced",
   "metadata": {},
   "source": [
    "2. In a list of values stored in a variable called spam, how would you assign the value \"hello\" at  the third value? (Assume [2, 4, 6, 8, 10] are in spam.)  "
   ]
  },
  {
   "cell_type": "code",
   "execution_count": 6,
   "id": "f9485d76",
   "metadata": {},
   "outputs": [
    {
     "name": "stdout",
     "output_type": "stream",
     "text": [
      "list before assigning  [2, 4, 6, 8, 10]\n",
      "list after assigning [2, 4, 6, 8, 10, 'hello']\n"
     ]
    }
   ],
   "source": [
    "spam=[2,4,6,8,10]\n",
    "print(\"list before assigning \",spam)\n",
    "spam.append(\"hello\")\n",
    "print(\"list after assigning\",spam)"
   ]
  },
  {
   "cell_type": "markdown",
   "id": "720040dc",
   "metadata": {},
   "source": [
    ">Let's pretend the spam includes the list spam = ['a','b','c','d']  for the next three queries."
   ]
  },
  {
   "cell_type": "markdown",
   "id": "4397e518",
   "metadata": {},
   "source": [
    "3. What is the value of spam[int(int('3'* 2) / 11)]?"
   ]
  },
  {
   "cell_type": "code",
   "execution_count": 12,
   "id": "49471b4c",
   "metadata": {},
   "outputs": [
    {
     "name": "stdout",
     "output_type": "stream",
     "text": [
      "d\n"
     ]
    }
   ],
   "source": [
    "spam=['a','b','c','d']\n",
    "print(spam[3])\n",
    "#d"
   ]
  },
  {
   "cell_type": "markdown",
   "id": "918d839f",
   "metadata": {},
   "source": [
    "4. What is the value of spam[-1]?"
   ]
  },
  {
   "cell_type": "code",
   "execution_count": 21,
   "id": "a69b5bf3",
   "metadata": {},
   "outputs": [
    {
     "name": "stdout",
     "output_type": "stream",
     "text": [
      "d\n"
     ]
    }
   ],
   "source": [
    "print(spam[-1])\n",
    "#d"
   ]
  },
  {
   "cell_type": "markdown",
   "id": "8356e76e",
   "metadata": {},
   "source": [
    "5. What is the value of spam[:2]?"
   ]
  },
  {
   "cell_type": "code",
   "execution_count": 22,
   "id": "781e4709",
   "metadata": {},
   "outputs": [
    {
     "name": "stdout",
     "output_type": "stream",
     "text": [
      "['a', 'b']\n"
     ]
    }
   ],
   "source": [
    "print(spam[:2])\n",
    "#['a','b']"
   ]
  },
  {
   "cell_type": "markdown",
   "id": "6ec5616c",
   "metadata": {},
   "source": [
    "Let's pretend bacon has the list [3.14, 'cat', 11, 'cat' True] for the next three questions."
   ]
  },
  {
   "cell_type": "code",
   "execution_count": 24,
   "id": "2833a60d",
   "metadata": {},
   "outputs": [],
   "source": [
    "bacon =[3.14,'cat',11,'cat',True ]"
   ]
  },
  {
   "cell_type": "markdown",
   "id": "fb240cf7",
   "metadata": {},
   "source": [
    "6. What is the value of bacon.index('cat')?"
   ]
  },
  {
   "cell_type": "code",
   "execution_count": 25,
   "id": "1d42b447",
   "metadata": {},
   "outputs": [
    {
     "name": "stdout",
     "output_type": "stream",
     "text": [
      "1\n"
     ]
    }
   ],
   "source": [
    "print(bacon.index('cat'))\n",
    "#1"
   ]
  },
  {
   "cell_type": "markdown",
   "id": "7fe62478",
   "metadata": {},
   "source": [
    "7. How does bacon.append(99) change the look of the list value in bacon?"
   ]
  },
  {
   "cell_type": "code",
   "execution_count": 26,
   "id": "fbfc4267",
   "metadata": {},
   "outputs": [
    {
     "name": "stdout",
     "output_type": "stream",
     "text": [
      "[3.14, 'cat', 11, 'cat', True, 99]\n"
     ]
    }
   ],
   "source": [
    "bacon.append(99)\n",
    "print(bacon)\n",
    "#[3.14,'cat',11,'cat',True,99]"
   ]
  },
  {
   "cell_type": "markdown",
   "id": "b13fcd59",
   "metadata": {},
   "source": [
    "8. How does bacon.remove(\"cat\")change the look of the list in bacon?"
   ]
  },
  {
   "cell_type": "code",
   "execution_count": 27,
   "id": "cd2f33ec",
   "metadata": {},
   "outputs": [
    {
     "name": "stdout",
     "output_type": "stream",
     "text": [
      "[3.14, 11, 'cat', True, 99]\n"
     ]
    }
   ],
   "source": [
    "bacon.remove(\"cat\")\n",
    "print(bacon)\n",
    "#[3.14,11,'cat',True,99]"
   ]
  },
  {
   "cell_type": "markdown",
   "id": "65997340",
   "metadata": {},
   "source": [
    "9. What are the list concatenation and list replication operators?"
   ]
  },
  {
   "cell_type": "code",
   "execution_count": 45,
   "id": "cb3ba38e",
   "metadata": {},
   "outputs": [
    {
     "name": "stdout",
     "output_type": "stream",
     "text": [
      "[3.14, 'cat', 11, 'cat', True]\n",
      "[3.14, 'cat', 11, 'cat', True, 'a', 'b', 'c', 'd']\n"
     ]
    }
   ],
   "source": [
    "bacon =[3.14,'cat',11,'cat',True ]\n",
    "spam=['a','b','c','d']\n",
    "#List replication operator\n",
    "bacon1 = bacon.copy()\n",
    "print(bacon1)\n",
    "#List concatenation operator\n",
    "bacon1.extend(spam)\n",
    "print(bacon1)"
   ]
  },
  {
   "cell_type": "markdown",
   "id": "544ab097",
   "metadata": {},
   "source": [
    "10. What is difference between the list methods append() and insert()?"
   ]
  },
  {
   "cell_type": "markdown",
   "id": "f6e2505a",
   "metadata": {},
   "source": [
    "In fuction append() we can directly add any thing in list while in insert we have to chose index where we want to insert thing."
   ]
  },
  {
   "cell_type": "code",
   "execution_count": 48,
   "id": "98ce63e3",
   "metadata": {},
   "outputs": [
    {
     "name": "stdout",
     "output_type": "stream",
     "text": [
      "['a', 'b', 'c', 'd', 1]\n",
      "['a', 'b', 1, 'c', 'd']\n"
     ]
    }
   ],
   "source": [
    "#for example\n",
    "spam=['a','b','c','d']\n",
    "spam.append(1)\n",
    "print(spam)\n",
    "#output will be ['a', 'b', 'c', 'd', 1]\n",
    "spam=['a', 'b', 'c', 'd']\n",
    "spam.insert(2,1)\n",
    "print(spam)"
   ]
  },
  {
   "cell_type": "markdown",
   "id": "cda1f084",
   "metadata": {},
   "source": [
    "11. What are the two methods for removing items from a list?"
   ]
  },
  {
   "cell_type": "markdown",
   "id": "35753fba",
   "metadata": {},
   "source": [
    "Two methods for removing items in list are\n",
    "1) .pop() function\n",
    "2) .del() function"
   ]
  },
  {
   "cell_type": "markdown",
   "id": "f63e1631",
   "metadata": {},
   "source": [
    "12. Describe how list values and string values are identical."
   ]
  },
  {
   "cell_type": "markdown",
   "id": "dbb0792c",
   "metadata": {},
   "source": [
    "In Python, list values and string values are both examples of sequences, but they have different characteristics and purposes.\n",
    "\n",
    "1) Indexing: Both lists and strings can be accessed using indexing. Each element in a list or a character in a string has a specific index, starting from 0. For example, my_list[0] would access the first element of the list, while my_string[0] would access the first character of the string.\n",
    "\n",
    "2) Slicing: Lists and strings can be sliced to extract specific portions. Slicing allows you to create a new list or string containing a subset of the original elements. For example, my_list[1:4] would return a new list with elements from index 1 to 3, while my_string[2:5] would return a new string with characters from index 2 to 4.\n",
    "\n",
    "3) Iteration: Both lists and strings can be iterated over using loops. This means you can access each element or character in the sequence one by one. For example, for item in my_list: and for char in my_string: would iterate through the elements of the list and characters of the string, respectively.\n",
    "\n",
    "4) Concatenation: Lists and strings can be concatenated using the + operator. For lists, this means combining two lists into a single list. For strings, it means joining two strings together. For example, list1 + list2 would create a new list containing the elements of list1 followed by the elements of list2, while 'Hello ' + 'world' would create the string 'Hello world'."
   ]
  },
  {
   "cell_type": "markdown",
   "id": "5ea69e07",
   "metadata": {},
   "source": [
    "13. What's the difference between tuples and lists?"
   ]
  },
  {
   "cell_type": "markdown",
   "id": "560f422b",
   "metadata": {},
   "source": [
    "In Python, tuples and lists are both used to store collections of items, but they have some fundamental differences:\n",
    "\n",
    "> Mutability: The main difference between tuples and lists is their mutability. Lists are mutable, meaning you can modify, add, or remove elements after the list is created. On the other hand, tuples are immutable, meaning they cannot be modified once created. You cannot change, add, or remove elements from a tuple.\n",
    "\n",
    "> Syntax: Lists are represented by square brackets [], while tuples are represented by parentheses (). For example, [1, 2, 3] is a list, whereas (1, 2, 3) is a tuple"
   ]
  },
  {
   "cell_type": "markdown",
   "id": "d728e7f7",
   "metadata": {},
   "source": [
    "14. How do you type a tuple value that only contains the integer 42?"
   ]
  },
  {
   "cell_type": "code",
   "execution_count": 50,
   "id": "ba2159a7",
   "metadata": {},
   "outputs": [
    {
     "name": "stdout",
     "output_type": "stream",
     "text": [
      "42\n"
     ]
    }
   ],
   "source": [
    "tup1=(42)\n",
    "print(tup1)"
   ]
  },
  {
   "cell_type": "markdown",
   "id": "9e9751b4",
   "metadata": {},
   "source": [
    "15. How do you get a list value's tuple form?"
   ]
  },
  {
   "cell_type": "markdown",
   "id": "7db4abcf",
   "metadata": {},
   "source": [
    "To convert a list value to a tuple, you can use the tuple() function. It takes an iterable (such as a list) as an argument and returns a tuple containing the same elements."
   ]
  },
  {
   "cell_type": "code",
   "execution_count": 51,
   "id": "52922418",
   "metadata": {},
   "outputs": [
    {
     "name": "stdout",
     "output_type": "stream",
     "text": [
      "(1, 2, 3, 4, 5)\n"
     ]
    }
   ],
   "source": [
    "#for example\n",
    "my_list = [1, 2, 3, 4, 5]\n",
    "my_tuple = tuple(my_list)\n",
    "print(my_tuple)  # Output: (1, 2, 3, 4, 5)"
   ]
  },
  {
   "cell_type": "markdown",
   "id": "338e91bb",
   "metadata": {},
   "source": [
    " How do you get a tuple value's list form?"
   ]
  },
  {
   "cell_type": "markdown",
   "id": "b07daa83",
   "metadata": {},
   "source": [
    "To convert a tuple value to a list, you can use the list() function. It takes an iterable (such as a tuple) as an arbgument and returns a list containing the same elements."
   ]
  },
  {
   "cell_type": "code",
   "execution_count": 52,
   "id": "f2d2346a",
   "metadata": {},
   "outputs": [
    {
     "name": "stdout",
     "output_type": "stream",
     "text": [
      "[1, 2, 3, 4, 5]\n"
     ]
    }
   ],
   "source": [
    "#for example\n",
    "my_tuple = (1, 2, 3, 4, 5)\n",
    "my_list = list(my_tuple)\n",
    "print(my_list)"
   ]
  },
  {
   "cell_type": "markdown",
   "id": "8ff24e24",
   "metadata": {},
   "source": [
    "16. Variables that \"contain\" list values are not necessarily lists themselves. Instead, what do they contain?"
   ]
  },
  {
   "cell_type": "markdown",
   "id": "9231b9c2",
   "metadata": {},
   "source": [
    "Variables that \"contain\" list values in Python do not actually contain the list directly. Instead, they contain a reference or a memory address that points to the location of the list in memory. "
   ]
  },
  {
   "cell_type": "markdown",
   "id": "69c9fd05",
   "metadata": {},
   "source": [
    "17. How do you distinguish between copy.copy() and copy.deepcopy()?"
   ]
  },
  {
   "cell_type": "markdown",
   "id": "f97ef8b1",
   "metadata": {},
   "source": [
    "In Python, the copy module provides two functions: \n",
    "copy() and deepcopy(), which are used to create copies of objects. The distinction between the two functions lies in how they handle the copying process, specifically when dealing with nested objects or references within the copied object.\n",
    "\n",
    "1) copy.copy(): This function performs a shallow copy of an object. It creates a new object and copies the references of the original object's elements to the new object. However, if the elements themselves are mutable objects (such as lists or dictionaries), the references to these mutable objects are still shared between the original and copied objects. In other words, a shallow copy creates a new container object, but the objects inside the container are still shared between the original and copied objects.\n",
    "\n",
    "2) copy.deepcopy(): This function performs a deep copy of an object. It creates a completely independent copy of the object and all its nested objects. It recursively copies all the elements and sub-elements of the original object, ensuring that no references are shared between the original and copied objects. Deepcopy guarantees that any changes made to the copied object or its nested objects will not affect the original object or its nested objects.\n"
   ]
  }
 ],
 "metadata": {
  "kernelspec": {
   "display_name": "Python 3 (ipykernel)",
   "language": "python",
   "name": "python3"
  },
  "language_info": {
   "codemirror_mode": {
    "name": "ipython",
    "version": 3
   },
   "file_extension": ".py",
   "mimetype": "text/x-python",
   "name": "python",
   "nbconvert_exporter": "python",
   "pygments_lexer": "ipython3",
   "version": "3.10.9"
  }
 },
 "nbformat": 4,
 "nbformat_minor": 5
}
