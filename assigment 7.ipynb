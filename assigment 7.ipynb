{
 "cells": [
  {
   "cell_type": "markdown",
   "id": "10a81f0e",
   "metadata": {},
   "source": [
    "Q.1. Create two int type variables, apply addition, subtraction, division and multiplications\n",
    "and store the results in variables. Then print the data in the following format by calling the\n",
    "variables:\n",
    "First variable is __ & second variable is __.\n",
    "Addition: __ + __ = __\n",
    "Subtraction: __ - __ = __\n",
    "Multiplication: __ * __ = __\n",
    "Division: __ / __ = __"
   ]
  },
  {
   "cell_type": "code",
   "execution_count": 1,
   "id": "d4eb2ae2",
   "metadata": {},
   "outputs": [
    {
     "name": "stdout",
     "output_type": "stream",
     "text": [
      "First variable is 10 & second variable is 5\n",
      "Addition: 10 + 5 = 15\n",
      "Subtraction: 10 - 5 = 5\n",
      "Multiplication: 10 * 5 = 50\n",
      "Division: 10 / 5 = 2.0\n"
     ]
    }
   ],
   "source": [
    "# Create two int variables\n",
    "first_variable = 10\n",
    "second_variable = 5\n",
    "\n",
    "# Perform arithmetic operations and store results\n",
    "addition = first_variable + second_variable\n",
    "subtraction = first_variable - second_variable\n",
    "multiplication = first_variable * second_variable\n",
    "division = first_variable / second_variable\n",
    "\n",
    "# Print the data in the specified format\n",
    "print(\"First variable is\", first_variable, \"& second variable is\", second_variable)\n",
    "print(\"Addition:\", first_variable, \"+\", second_variable, \"=\", addition)\n",
    "print(\"Subtraction:\", first_variable, \"-\", second_variable, \"=\", subtraction)\n",
    "print(\"Multiplication:\", first_variable, \"*\", second_variable, \"=\", multiplication)\n",
    "print(\"Division:\", first_variable, \"/\", second_variable, \"=\", division)\n"
   ]
  },
  {
   "cell_type": "markdown",
   "id": "0f640af7",
   "metadata": {},
   "source": [
    "Q.2. What is the difference between the following operators:\n",
    "(i) ‘/’ & ‘//’\n",
    "(ii) ‘**’ & ‘^’"
   ]
  },
  {
   "cell_type": "markdown",
   "id": "4950b816",
   "metadata": {},
   "source": [
    ">The operators you mentioned have different functionalities:\n",
    "\n",
    ">(i) / and //:\n",
    "/ is the division operator in Python. It performs floating-point division, which means that it returns a floating-point result even if the operands are integers. For example, 10 / 3 would result in 3.3333333333333335.\n",
    "// is the floor division operator in Python. It performs integer division, which means that it returns the quotient as an integer value, discarding any fractional part. For example, 10 // 3 would result in 3, as the fractional part 0.3333333333333335 is discarded.\n",
    "\n",
    ">(ii) ** and ^:\n",
    ".** is the exponentiation operator in Python. It raises the left operand to the power of the right operand. For example, 2 ** 3 would result in 8, as 2 raised to the power of 3 is 8.\n",
    "^ is not the exponentiation operator in Python. Instead, it is the bitwise XOR operator. It performs a bitwise exclusive OR operation between the binary representations of the operands. This operator is used for manipulating individual bits in numbers, not for exponentiation."
   ]
  },
  {
   "cell_type": "markdown",
   "id": "7bf45cd6",
   "metadata": {},
   "source": [
    "Q.3. List the logical operators."
   ]
  },
  {
   "cell_type": "markdown",
   "id": "bce79d4c",
   "metadata": {},
   "source": [
    ">Logical operators are-\n",
    "1)AND\n",
    "2)OR\n",
    "3)NOT"
   ]
  },
  {
   "cell_type": "markdown",
   "id": "56204e87",
   "metadata": {},
   "source": [
    "Q.4. Explain right shift operator and left shift operator with examples."
   ]
  },
  {
   "cell_type": "markdown",
   "id": "abad2f20",
   "metadata": {},
   "source": [
    ">The right shift (>>) and left shift (<<) operators are bitwise shift operators in Python. They operate on the binary representation of the operands, shifting the bits to the right or left by a specified number of positions. "
   ]
  },
  {
   "cell_type": "markdown",
   "id": "4b357861",
   "metadata": {},
   "source": [
    ">Right Shift (>>):\n",
    "The right shift operator (>>) shifts the bits of the left operand to the right by the number of positions specified by the right operand. The rightmost bits are discarded, and the vacant positions on the left are filled with the sign bit (for signed integers) or with zeros (for unsigned integers). Each shift to the right is equivalent to dividing the value by 2."
   ]
  },
  {
   "cell_type": "code",
   "execution_count": null,
   "id": "dc39c26d",
   "metadata": {},
   "outputs": [],
   "source": [
    "#example\n",
    "number = 12\n",
    "shifted_number = number >> 2\n",
    "print(shifted_number)"
   ]
  },
  {
   "cell_type": "markdown",
   "id": "0b76acf6",
   "metadata": {},
   "source": [
    ">Left Shift (<<):\n",
    "The left shift operator (<<) shifts the bits of the left operand to the left by the number of positions specified by the right operand. The vacant positions on the right are filled with zeros. Each shift to the left is equivalent to multiplying the value by 2."
   ]
  },
  {
   "cell_type": "code",
   "execution_count": null,
   "id": "4c307cda",
   "metadata": {},
   "outputs": [],
   "source": [
    "#example\n",
    "number = 5\n",
    "shifted_number = number << 3\n",
    "print(shifted_number)"
   ]
  },
  {
   "cell_type": "markdown",
   "id": "caf65934",
   "metadata": {},
   "source": [
    "Q.5. Create a list containing int type data of length 15. Then write a code to check if 10 is\n",
    "present in the list or not."
   ]
  },
  {
   "cell_type": "code",
   "execution_count": 2,
   "id": "99bf318b",
   "metadata": {},
   "outputs": [
    {
     "name": "stdout",
     "output_type": "stream",
     "text": [
      "10 is present in the list.\n"
     ]
    }
   ],
   "source": [
    "# Create a list of length 15 containing integer data\n",
    "my_list = [5, 2, 8, 10, 3, 1, 6, 4, 9, 7, 12, 15, 11, 13, 14]\n",
    "\n",
    "# Check if 10 is present in the list\n",
    "if 10 in my_list:\n",
    "    print(\"10 is present in the list.\")\n",
    "else:\n",
    "    print(\"10 is not present in the list.\")"
   ]
  }
 ],
 "metadata": {
  "kernelspec": {
   "display_name": "Python 3 (ipykernel)",
   "language": "python",
   "name": "python3"
  },
  "language_info": {
   "codemirror_mode": {
    "name": "ipython",
    "version": 3
   },
   "file_extension": ".py",
   "mimetype": "text/x-python",
   "name": "python",
   "nbconvert_exporter": "python",
   "pygments_lexer": "ipython3",
   "version": "3.10.9"
  }
 },
 "nbformat": 4,
 "nbformat_minor": 5
}
