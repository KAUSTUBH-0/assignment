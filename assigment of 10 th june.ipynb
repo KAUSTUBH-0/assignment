{
 "cells": [
  {
   "cell_type": "markdown",
   "id": "47aee2c4",
   "metadata": {},
   "source": [
    "1. In Python, what is the difference between a built-in function and a user-defined function? Provide an example of each."
   ]
  },
  {
   "cell_type": "markdown",
   "id": "534d120f",
   "metadata": {},
   "source": [
    ">Built-in functions are pre-defined functions provided by Python as part of its standard library. They are readily available for use without the need for additional code or imports. Examples of built-in functions include print(), len(), and max().\n"
   ]
  },
  {
   "cell_type": "code",
   "execution_count": null,
   "id": "3d1cbca1",
   "metadata": {},
   "outputs": [],
   "source": [
    "#example\n",
    "my_list = [1, 2, 3, 4, 5]\n",
    "length = len(my_list)\n",
    "print(length)"
   ]
  },
  {
   "cell_type": "markdown",
   "id": "ae905fe2",
   "metadata": {},
   "source": [
    ">User-defined functions are functions created by Python programmers to perform specific tasks as per their requirements. These functions are defined using the def keyword and can be reused throughout the program."
   ]
  },
  {
   "cell_type": "code",
   "execution_count": null,
   "id": "c94ae771",
   "metadata": {},
   "outputs": [],
   "source": [
    "#example\n",
    "def multiply(a, b):\n",
    "    return a * b\n",
    "\n",
    "result = multiply(3, 4)\n",
    "print(result)"
   ]
  },
  {
   "cell_type": "markdown",
   "id": "886df661",
   "metadata": {},
   "source": [
    "2. How can you pass arguments to a function in Python? Explain the difference between positional\n",
    "   arguments and keyword arguments."
   ]
  },
  {
   "cell_type": "markdown",
   "id": "e4a47111",
   "metadata": {},
   "source": [
    ">In Python, you can pass arguments to a function in multiple ways. The two common ways to pass arguments are through positional arguments and keyword arguments."
   ]
  },
  {
   "cell_type": "markdown",
   "id": "cad4ff8c",
   "metadata": {},
   "source": [
    ">Positional arguments are passed to a function based on their position or order in the function call. The order of the arguments in the function call must match the order of the parameters in the function definition."
   ]
  },
  {
   "cell_type": "code",
   "execution_count": 1,
   "id": "9666b8e1",
   "metadata": {},
   "outputs": [
    {
     "name": "stdout",
     "output_type": "stream",
     "text": [
      "Hello Alice! You are 25 years old.\n"
     ]
    }
   ],
   "source": [
    "#example\n",
    "def greet(name, age):\n",
    "    print(f\"Hello {name}! You are {age} years old.\")\n",
    "greet(\"Alice\", 25)"
   ]
  },
  {
   "cell_type": "markdown",
   "id": "f73820b2",
   "metadata": {},
   "source": [
    ">Keyword arguments are passed to a function using the syntax parameter_name= 'value' in the function call. The arguments are associated with specific parameter names, allowing you to pass them in any order."
   ]
  },
  {
   "cell_type": "code",
   "execution_count": 2,
   "id": "09684688",
   "metadata": {},
   "outputs": [
    {
     "name": "stdout",
     "output_type": "stream",
     "text": [
      "Hello Bob! You are 30 years old.\n"
     ]
    }
   ],
   "source": [
    "#example\n",
    "def greet(name, age):\n",
    "    print(f\"Hello {name}! You are {age} years old.\")\n",
    "\n",
    "greet(age=30, name=\"Bob\")"
   ]
  },
  {
   "cell_type": "markdown",
   "id": "2c33239b",
   "metadata": {},
   "source": [
    "3. What is the purpose of the return statement in a function? Can a function have multiple return statements? Explain with an example."
   ]
  },
  {
   "cell_type": "markdown",
   "id": "824a960a",
   "metadata": {},
   "source": [
    ">The purpose of the return statement in a function is to specify the value that the function should evaluate to and provide as the result when called. It allows the function to communicate the result of its computation back to the caller."
   ]
  },
  {
   "cell_type": "markdown",
   "id": "ce46446e",
   "metadata": {},
   "source": [
    ">Yes,a function can have multiple return statement but only one will execute which comes first."
   ]
  },
  {
   "cell_type": "code",
   "execution_count": null,
   "id": "bc429401",
   "metadata": {},
   "outputs": [],
   "source": [
    "#example\n",
    "def absolute_value(x):\n",
    "    if x < 0:\n",
    "        return -x\n",
    "    else:\n",
    "        return x\n",
    "\n",
    "result1 = absolute_value(-5)\n",
    "print(result1)\n",
    "\n",
    "result2 = absolute_value(10)\n",
    "print(result2)"
   ]
  },
  {
   "cell_type": "markdown",
   "id": "2f7c5a57",
   "metadata": {},
   "source": [
    "4. What are lambda functions in Python? How are they different from regular functions? Provide an example where a lambda function can be useful."
   ]
  },
  {
   "cell_type": "markdown",
   "id": "5872464f",
   "metadata": {},
   "source": [
    ">Lambda functions are small, anonymous functions defined with the lambda keyword.They can take any number of arguments but can only have one expression.The expression is evaluated and returned when the function is called.Lambda functions do not require a return statement, the expression is implicitly returned."
   ]
  },
  {
   "cell_type": "markdown",
   "id": "4f97f3ac",
   "metadata": {},
   "source": [
    ">Lambda function is different from regular function by following ways-\n",
    "<p>. Regular function required return statement while lambda function do not.\n",
    "<p>.Lambda only works on single expression while normal function works on multiple command. \n",
    "    "
   ]
  },
  {
   "cell_type": "code",
   "execution_count": 4,
   "id": "6edd0e30",
   "metadata": {},
   "outputs": [
    {
     "name": "stdout",
     "output_type": "stream",
     "text": [
      "8\n"
     ]
    }
   ],
   "source": [
    "#example\n",
    "add = lambda x, y: x + y\n",
    "print(add(5, 3))"
   ]
  },
  {
   "cell_type": "markdown",
   "id": "03c96fd3",
   "metadata": {},
   "source": [
    "5. How does the concept of \"scope\" apply to functions in Python? Explain the difference between local scope and global scope."
   ]
  },
  {
   "cell_type": "markdown",
   "id": "f810990f",
   "metadata": {},
   "source": [
    ">In Python, the concept of \"scope\" refers to the region or context in which a variable or name is defined and can be accessed. The scope determines the visibility and lifetime of variables, and it plays a crucial role in variable accessibility and name resolution within functions."
   ]
  },
  {
   "cell_type": "markdown",
   "id": "a48171d1",
   "metadata": {},
   "source": [
    ">Local scope refers to the region within a function where variables are defined. Variables declared within a function are considered local variables and are only accessible within that specific function."
   ]
  },
  {
   "cell_type": "code",
   "execution_count": 5,
   "id": "d1b24c8d",
   "metadata": {
    "scrolled": true
   },
   "outputs": [
    {
     "name": "stdout",
     "output_type": "stream",
     "text": [
      "10\n"
     ]
    },
    {
     "ename": "NameError",
     "evalue": "name 'x' is not defined",
     "output_type": "error",
     "traceback": [
      "\u001b[1;31m---------------------------------------------------------------------------\u001b[0m",
      "\u001b[1;31mNameError\u001b[0m                                 Traceback (most recent call last)",
      "Cell \u001b[1;32mIn[5], line 7\u001b[0m\n\u001b[0;32m      4\u001b[0m     \u001b[38;5;28mprint\u001b[39m(x)  \u001b[38;5;66;03m# Accessing local variable\u001b[39;00m\n\u001b[0;32m      6\u001b[0m my_function() \n\u001b[1;32m----> 7\u001b[0m \u001b[38;5;28mprint\u001b[39m(\u001b[43mx\u001b[49m)\n",
      "\u001b[1;31mNameError\u001b[0m: name 'x' is not defined"
     ]
    }
   ],
   "source": [
    "#example\n",
    "def my_function():\n",
    "    x = 10\n",
    "    print(x)  # Accessing local variable\n",
    "\n",
    "my_function() \n",
    "print(x)      # Error: NameError - 'x' is not defined"
   ]
  },
  {
   "cell_type": "markdown",
   "id": "58e3a840",
   "metadata": {},
   "source": [
    ">Global scope refers to the outermost scope in a Python program, outside of any function or class. Variables declared outside of functions, typically at the top-level of a module, have global scope and asscesible to all over the program."
   ]
  },
  {
   "cell_type": "code",
   "execution_count": 6,
   "id": "823a2024",
   "metadata": {},
   "outputs": [
    {
     "name": "stdout",
     "output_type": "stream",
     "text": [
      "10\n",
      "10\n"
     ]
    }
   ],
   "source": [
    "#example\n",
    "x = 10  # Global variable\n",
    "\n",
    "def my_function():\n",
    "    print(x)  # Accessing global variable\n",
    "\n",
    "my_function() \n",
    "print(x)    "
   ]
  },
  {
   "cell_type": "markdown",
   "id": "abb1332b",
   "metadata": {},
   "source": [
    "6. How can you use the \"return\" statement in a Python function to return multiple values?"
   ]
  },
  {
   "cell_type": "markdown",
   "id": "974acc7f",
   "metadata": {},
   "source": [
    ">We can return multiple value using \"return\" function by making return value as dictionary,tuple or list."
   ]
  },
  {
   "cell_type": "code",
   "execution_count": 8,
   "id": "b7ddf7a1",
   "metadata": {},
   "outputs": [
    {
     "name": "stdout",
     "output_type": "stream",
     "text": [
      "Alice\n",
      "25\n"
     ]
    }
   ],
   "source": [
    "#for example as tuple\n",
    "def get_name_and_age():\n",
    "    name = \"Alice\"\n",
    "    age = 25\n",
    "    return name, age\n",
    "\n",
    "result = get_name_and_age()\n",
    "name, age = result\n",
    "print(name) \n",
    "print(age)   \n",
    " #In this example, the get_name_and_age() function returns a tuple containing the name and age values. The returned tuple is then unpacked into the variables name and age using multiple assignment."
   ]
  },
  {
   "cell_type": "code",
   "execution_count": null,
   "id": "df30d4a1",
   "metadata": {},
   "outputs": [],
   "source": [
    "#for example as List\n",
    "def get_coordinates():\n",
    "    x = 10\n",
    "    y = 20\n",
    "    return [x, y]\n",
    "\n",
    "result = get_coordinates()\n",
    "x = result[0]\n",
    "y = result[1]\n",
    "print(x)  \n",
    "print(y)  \n",
    "#In this example, the get_coordinates() function returns a list containing the x and y values. The returned list is accessed by indexing, and the values are assigned to variables x and y."
   ]
  },
  {
   "cell_type": "code",
   "execution_count": null,
   "id": "f918f44a",
   "metadata": {},
   "outputs": [],
   "source": [
    "#for example as dictionary\n",
    "def get_student_info():\n",
    "    name = \"Alice\"\n",
    "    age = 25\n",
    "    grade = \"A\"\n",
    "    return {\"name\": name, \"age\": age, \"grade\": grade}\n",
    "\n",
    "result = get_student_info()\n",
    "name = result[\"name\"]\n",
    "age = result[\"age\"]\n",
    "print(name)  \n",
    "print(age)   \n",
    "#In this example, the get_student_info() function returns a dictionary containing the student information. The returned dictionary is accessed using the keys name and age to retrieve the corresponding values."
   ]
  },
  {
   "cell_type": "markdown",
   "id": "96e48ebe",
   "metadata": {},
   "source": [
    "7. What is the difference between the \"pass by value\" and \"pass by reference\" concepts when it comes to function arguments in Python?"
   ]
  },
  {
   "cell_type": "markdown",
   "id": "a12c0138",
   "metadata": {},
   "source": [
    ">In pass by value, a copy of the value being passed is made, and this copy is then passed to the function. Any changes made to the function parameter within the function do not affect the original value."
   ]
  },
  {
   "cell_type": "code",
   "execution_count": 9,
   "id": "77a2d714",
   "metadata": {},
   "outputs": [
    {
     "name": "stdout",
     "output_type": "stream",
     "text": [
      "5\n"
     ]
    }
   ],
   "source": [
    "#for example\n",
    "def update_value(x):\n",
    "    x = 10\n",
    "\n",
    "value = 5\n",
    "update_value(value)\n",
    "print(value)"
   ]
  },
  {
   "cell_type": "markdown",
   "id": "15201ef9",
   "metadata": {},
   "source": [
    ">In pass by reference, a reference to the original variable or object is passed to the function. Any changes made to the function parameter inside the function directly affect the original value or object."
   ]
  },
  {
   "cell_type": "code",
   "execution_count": null,
   "id": "132ca4d5",
   "metadata": {},
   "outputs": [],
   "source": [
    "#for example\n",
    "def update_list(my_list):\n",
    "    my_list.append(4)\n",
    "\n",
    "numbers = [1, 2, 3]\n",
    "update_list(numbers)\n",
    "print(numbers) \n"
   ]
  },
  {
   "cell_type": "markdown",
   "id": "d3e59931",
   "metadata": {},
   "source": [
    "8. Create a function that can intake integer or decimal value and do following operations:\n",
    "a. Logarithmic function (log x)\n",
    "b. Exponential function (exp(x))\n",
    "c. Power function with base 2 (2^x)\n",
    "d. Square root"
   ]
  },
  {
   "cell_type": "code",
   "execution_count": 10,
   "id": "1caa3316",
   "metadata": {},
   "outputs": [
    {
     "name": "stdout",
     "output_type": "stream",
     "text": [
      "(1.252762968495368, 33.11545195869231, 11.313708498984761, 1.8708286933869707)\n"
     ]
    }
   ],
   "source": [
    "import math\n",
    "\n",
    "def math_operations(value):\n",
    "    logarithm = math.log(value)\n",
    "    exponential = math.exp(value)\n",
    "    power = math.pow(2, value)\n",
    "    square_root = math.sqrt(value)\n",
    "    \n",
    "    return logarithm, exponential, power, square_root\n",
    "\n",
    "# Testing the function\n",
    "result = math_operations(3.5)\n",
    "print(result)    "
   ]
  },
  {
   "cell_type": "markdown",
   "id": "da5b409f",
   "metadata": {},
   "source": [
    "9. Create a function that takes a full name as an argument and returns first name and last name."
   ]
  },
  {
   "cell_type": "code",
   "execution_count": 11,
   "id": "49948cd9",
   "metadata": {},
   "outputs": [
    {
     "name": "stdout",
     "output_type": "stream",
     "text": [
      "First Name: John\n",
      "Last Name: Doe\n"
     ]
    }
   ],
   "source": [
    "def extract_names(full_name):\n",
    "    names = full_name.split()  # Split the full name into a list of names\n",
    "    first_name = names[0]\n",
    "    last_name = names[-1]\n",
    "    return first_name, last_name\n",
    "\n",
    "full_name = \"John Doe\"\n",
    "first, last = extract_names(full_name)\n",
    "print(\"First Name:\", first)\n",
    "print(\"Last Name:\", last)\n"
   ]
  }
 ],
 "metadata": {
  "kernelspec": {
   "display_name": "Python 3 (ipykernel)",
   "language": "python",
   "name": "python3"
  },
  "language_info": {
   "codemirror_mode": {
    "name": "ipython",
    "version": 3
   },
   "file_extension": ".py",
   "mimetype": "text/x-python",
   "name": "python",
   "nbconvert_exporter": "python",
   "pygments_lexer": "ipython3",
   "version": "3.10.9"
  }
 },
 "nbformat": 4,
 "nbformat_minor": 5
}
