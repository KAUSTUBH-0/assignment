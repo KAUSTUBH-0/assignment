{
 "cells": [
  {
   "cell_type": "markdown",
   "id": "1f85875b",
   "metadata": {},
   "source": [
    "1. Why are functions advantageous to have in your programs?"
   ]
  },
  {
   "cell_type": "markdown",
   "id": "8ad4312b",
   "metadata": {},
   "source": [
    ">Function reduces the complexity or multiple typing of single group of codes.\n",
    ">It have advantage of reusability of codes.\n",
    ">It decreases the execution time."
   ]
  },
  {
   "cell_type": "markdown",
   "id": "02467874",
   "metadata": {},
   "source": [
    "2. When does the code in a function run: when it's specified or when it's called?"
   ]
  },
  {
   "cell_type": "markdown",
   "id": "d4b1217e",
   "metadata": {},
   "source": [
    ">Code in a function run when it's called."
   ]
  },
  {
   "cell_type": "markdown",
   "id": "65100573",
   "metadata": {},
   "source": [
    "3. What statement creates a function?"
   ]
  },
  {
   "cell_type": "markdown",
   "id": "6e1c4604",
   "metadata": {},
   "source": [
    ">For creating function we use\n",
    "-> Keyword def\n",
    "-> Function name\n",
    "-> Argument if we are passing any value.\n",
    "-> Function body   "
   ]
  },
  {
   "cell_type": "code",
   "execution_count": 1,
   "id": "171f7f68",
   "metadata": {},
   "outputs": [
    {
     "name": "stdout",
     "output_type": "stream",
     "text": [
      "kg\n"
     ]
    }
   ],
   "source": [
    "#for example\n",
    "def MyfirstFunction():\n",
    "    print(\"kg\")\n",
    "MyfirstFunction()"
   ]
  },
  {
   "cell_type": "markdown",
   "id": "51d296ff",
   "metadata": {},
   "source": [
    "4. What is the difference between a function and a function call?"
   ]
  },
  {
   "cell_type": "markdown",
   "id": "1e6c8c79",
   "metadata": {},
   "source": [
    ">Function: A function is a self-contained block of code that performs a specific task. It is a reusable piece of code that is designed to perform a particular operation. Functions are defined with a name and may also have parameters (inputs) and a return value (output).\n",
    "\n",
    ">Function Call: A function call, also known as invoking or executing a function, is the act of using a function within a program. When you call a function, you are telling the program to execute the code inside that function at a specific point in the program's execution.\n"
   ]
  },
  {
   "cell_type": "markdown",
   "id": "ed95e4ef",
   "metadata": {},
   "source": [
    "5. How many global scopes are there in a Python program? How many local scopes?"
   ]
  },
  {
   "cell_type": "markdown",
   "id": "8ef294b5",
   "metadata": {},
   "source": [
    ">There are majorly one global scope  and multiple local scopes in a python programs."
   ]
  },
  {
   "cell_type": "markdown",
   "id": "fc2ccccc",
   "metadata": {},
   "source": [
    "6. What happens to variables in a local scope when the function call returns?"
   ]
  },
  {
   "cell_type": "markdown",
   "id": "c104d263",
   "metadata": {},
   "source": [
    ">When a function call returns the local scope and the variables defined within it cease to exist. The memory occupied by the local variables is freed, and their values are no longer accessible."
   ]
  },
  {
   "cell_type": "markdown",
   "id": "8bc7ce29",
   "metadata": {},
   "source": [
    "7. What is the concept of a return value? Is it possible to have a return value in an expression?"
   ]
  },
  {
   "cell_type": "markdown",
   "id": "f73a86f0",
   "metadata": {},
   "source": [
    ">The return value means that the value which is return by function after executing the codes given in it.\n",
    ">Yes, it is possible to have return value in expression as function returns the value which we can directly use in expression or store in variable. "
   ]
  },
  {
   "cell_type": "markdown",
   "id": "2ce649b0",
   "metadata": {},
   "source": [
    "8. If a function does not have a return statement, what is the return value of a call to that function?"
   ]
  },
  {
   "cell_type": "markdown",
   "id": "0cb548b7",
   "metadata": {},
   "source": [
    ">If function does not have a return statement then it return the none object to called function..\n",
    " "
   ]
  },
  {
   "cell_type": "code",
   "execution_count": 2,
   "id": "f7d10e76",
   "metadata": {},
   "outputs": [
    {
     "name": "stdout",
     "output_type": "stream",
     "text": [
      "Hello, world!\n",
      "Return value: None\n"
     ]
    }
   ],
   "source": [
    "#for example\n",
    "def greet():\n",
    "    print(\"Hello, world!\")\n",
    "\n",
    "result = greet()\n",
    "print(\"Return value:\", result)\n"
   ]
  },
  {
   "cell_type": "markdown",
   "id": "038bd794",
   "metadata": {},
   "source": [
    "9. How do you make a function variable refer to the global variable?"
   ]
  },
  {
   "cell_type": "markdown",
   "id": "b8ca2a06",
   "metadata": {},
   "source": [
    ">We can make a function variable refer to global variable we uses a keyword global at starting of variable. "
   ]
  },
  {
   "cell_type": "markdown",
   "id": "89c91494",
   "metadata": {},
   "source": [
    "10. What is the data type of None?"
   ]
  },
  {
   "cell_type": "markdown",
   "id": "2753946c",
   "metadata": {},
   "source": [
    "> The data type of None is a special type called NoneType. It represents the absence of a value or a null value."
   ]
  },
  {
   "cell_type": "markdown",
   "id": "70cda313",
   "metadata": {},
   "source": [
    "11. What does the sentence import areallyourpetsnamederic do?"
   ]
  },
  {
   "cell_type": "markdown",
   "id": "e199ecba",
   "metadata": {},
   "source": [
    ">The sentence import  areallyourpetsnamederic use to import pakage of  areallyourpetsnamederic in your programe."
   ]
  },
  {
   "cell_type": "markdown",
   "id": "7e4aaccb",
   "metadata": {},
   "source": [
    "12. If you had a bacon() feature in a spam module, what would you call it after importing spam?"
   ]
  },
  {
   "cell_type": "markdown",
   "id": "2f54fbfb",
   "metadata": {},
   "source": [
    ">If you have a bacon() feature within a spam module and you import the spam module in your Python code, you can access the bacon() function using the dot notation."
   ]
  },
  {
   "cell_type": "code",
   "execution_count": null,
   "id": "16e8babd",
   "metadata": {},
   "outputs": [],
   "source": [
    "#for example\n",
    "import spam\n",
    "\n",
    "spam.bacon()  # Calling the bacon() function from the spam module"
   ]
  },
  {
   "cell_type": "markdown",
   "id": "98bd3b19",
   "metadata": {},
   "source": [
    "13. What can you do to save a programme from crashing if it encounters an error?"
   ]
  },
  {
   "cell_type": "markdown",
   "id": "4649a83b",
   "metadata": {},
   "source": [
    ">To handle errors and prevent a program from crashing when encountering an error, you can use error handling techniques such as exception handling."
   ]
  },
  {
   "cell_type": "markdown",
   "id": "3d9f07e6",
   "metadata": {},
   "source": [
    "14. What is the purpose of the try clause? What is the purpose of the except clause?"
   ]
  },
  {
   "cell_type": "markdown",
   "id": "a4ad4ce6",
   "metadata": {},
   "source": [
    ">try() clause is used to execute code which could  give exception.\n",
    ">except() clause is used to execute code in it if it try() clause throw any exception. "
   ]
  }
 ],
 "metadata": {
  "kernelspec": {
   "display_name": "Python 3 (ipykernel)",
   "language": "python",
   "name": "python3"
  },
  "language_info": {
   "codemirror_mode": {
    "name": "ipython",
    "version": 3
   },
   "file_extension": ".py",
   "mimetype": "text/x-python",
   "name": "python",
   "nbconvert_exporter": "python",
   "pygments_lexer": "ipython3",
   "version": "3.10.9"
  }
 },
 "nbformat": 4,
 "nbformat_minor": 5
}
