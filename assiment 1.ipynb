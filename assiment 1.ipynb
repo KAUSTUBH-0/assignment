{
 "cells": [
  {
   "cell_type": "markdown",
   "id": "2f798910",
   "metadata": {},
   "source": [
    "1. In the below elements which of them are values or an expression? eg:- values can be\n",
    "integer or string and expressions will be mathematical operators.\n",
    "*\n",
    "hello\n",
    "-87.8\n",
    "-\n",
    "/\n",
    "+\n",
    "6"
   ]
  },
  {
   "cell_type": "markdown",
   "id": "5e64956b",
   "metadata": {},
   "source": [
    "EXPRESSION =\n",
    "*\n",
    "-\n",
    "+\n",
    "/\n",
    "VALUE =\n",
    "hello\n",
    "-87.8\n",
    "6"
   ]
  },
  {
   "cell_type": "markdown",
   "id": "af1e1d99",
   "metadata": {},
   "source": [
    "2. What is the difference between string and variable?"
   ]
  },
  {
   "cell_type": "markdown",
   "id": "1afc9482",
   "metadata": {},
   "source": [
    "In Python, a string is a specific data type that represents a sequence of characters enclosed within single quotes (' ') or double quotes (\" \"). \n",
    "On the other hand, a variable is a name that refers to a value stored in the computer's memory."
   ]
  },
  {
   "cell_type": "code",
   "execution_count": null,
   "id": "af219adf",
   "metadata": {},
   "outputs": [],
   "source": [
    "# for example\n",
    "str=\"kaustubh\" # where str is variable while data type of variable is string"
   ]
  },
  {
   "cell_type": "markdown",
   "id": "2e6adfc3",
   "metadata": {},
   "source": [
    "3. Describe three different data types."
   ]
  },
  {
   "cell_type": "markdown",
   "id": "c7a0c15e",
   "metadata": {},
   "source": [
    "Python have majorly seven data types:\n",
    "1) Numeric Types:\n",
    "int: Integers represent whole numbers, such as 1, -5, or 1000.\n",
    "float: Floating-point numbers represent decimal or fractional numbers, such as 3.14 or -2.5.\n",
    "2) String:\n",
    "str: Strings are sequences of characters enclosed in single quotes ('') or double quotes (\"\"). For example, \"Hello, World!\" or 'Python'.\n",
    "Boolean:\n",
    "3) boolean:\n",
    " Booleans represent truth values and can be either True or False. These values are often used in conditional statements and comparisons.\n",
    "4) List:\n",
    "Lists are ordered collections of items enclosed in square brackets ([]). They can contain elements of different data types and are mutable, meaning you can change, add, or remove elements after creation.\n",
    " 5) Tuple:\n",
    "tuple: Tuples are similar to lists, but they are immutable, meaning their elements cannot be modified once defined. Tuples are created using parentheses (()).\n",
    "6) Dictionary:\n",
    "dict: Dictionaries are key-value pairs enclosed in curly braces ({}). They are unordered collections of data where each element is accessed by its key rather than its index.\n",
    "7) Set:\n",
    "set: Sets are unordered collections of unique elements enclosed in curly braces ({}). They do not allow duplicate values.\n",
    "    \n"
   ]
  },
  {
   "cell_type": "markdown",
   "id": "afabb4b3",
   "metadata": {},
   "source": [
    "4. What is an expression made up of? What do all expressions do?"
   ]
  },
  {
   "cell_type": "markdown",
   "id": "04554ea4",
   "metadata": {},
   "source": [
    "In Python, an expression is a combination of values, variables, operators, and function calls that can be evaluated to produce a result. Expressions are the building blocks of Python code and are used to perform computations or to represent values."
   ]
  },
  {
   "cell_type": "markdown",
   "id": "eaf6f828",
   "metadata": {},
   "source": [
    "5. This assignment statements, like spam = 10. What is the difference between an\n",
    "   expression and a statement?"
   ]
  },
  {
   "cell_type": "markdown",
   "id": "c549c04c",
   "metadata": {},
   "source": [
    "In Python, a statement is a unit of code that performs an action or a set of actions. It represents a complete instruction or command that the Python interpreter can execute while an expression is a combination of values, variables, operators, and function calls that can be evaluated to produce a result."
   ]
  },
  {
   "cell_type": "code",
   "execution_count": null,
   "id": "c1e3a7ce",
   "metadata": {},
   "outputs": [],
   "source": [
    "# for expamle in\n",
    "spam =10\n",
    "# spam = 10 is statement given to compiler while it is also an expression for assining value"
   ]
  },
  {
   "cell_type": "markdown",
   "id": "60959dc8",
   "metadata": {},
   "source": [
    "6. After running the following code, what does the variable bacon contain?\n",
    "bacon = 22\n",
    "bacon + 1"
   ]
  },
  {
   "cell_type": "code",
   "execution_count": 2,
   "id": "2d272afc",
   "metadata": {},
   "outputs": [
    {
     "name": "stdout",
     "output_type": "stream",
     "text": [
      "22\n"
     ]
    }
   ],
   "source": [
    "bacon = 22\n",
    "bacon + 1\n",
    "print(bacon)"
   ]
  },
  {
   "cell_type": "markdown",
   "id": "e4fc7832",
   "metadata": {},
   "source": [
    "7. What should the values of the following two terms be?\n",
    "spam + spamspam\n",
    "spam * 3"
   ]
  },
  {
   "cell_type": "code",
   "execution_count": 7,
   "id": "697d969f",
   "metadata": {},
   "outputs": [
    {
     "name": "stdout",
     "output_type": "stream",
     "text": [
      "spamspamspam\n",
      "spamspamspam\n"
     ]
    }
   ],
   "source": [
    "print(\"spam\" + \"spamspam\")\n",
    "print('spam' * 3)"
   ]
  },
  {
   "cell_type": "markdown",
   "id": "c9073439",
   "metadata": {},
   "source": [
    "8. Why is eggs a valid variable name while 100 is invalid?"
   ]
  },
  {
   "cell_type": "markdown",
   "id": "d1dc400f",
   "metadata": {},
   "source": [
    "In python variable name have some conditions:\n",
    "1) It should not be keyword.\n",
    "2) It should start either with small and capital letter or with underscore(_).\n",
    "3) It should not contain numeric value at starting.\n",
    "So, eggs is valid variable while 100 is not."
   ]
  },
  {
   "cell_type": "markdown",
   "id": "907ff26d",
   "metadata": {},
   "source": [
    "9. What three functions can be used to get the integer, floating-point number, or string\n",
    "   version of a value?"
   ]
  },
  {
   "cell_type": "markdown",
   "id": "e82db7ad",
   "metadata": {},
   "source": [
    "1) int(): \n",
    "This function converts a value to an integer. It can be used to convert numeric values, strings representing integers, or even floating-point numbers to integers.\n",
    "2) float():\n",
    "This function converts a value to a floating-point number. It can be used to convert integers, strings representing numbers (integers or floats), or even other floating-point numbers to floats.\n",
    "3) str(): \n",
    "This function converts a value to its string representation. It can be used to convert any value to a string, including numbers (integers or floats), booleans, or even other strings."
   ]
  },
  {
   "cell_type": "markdown",
   "id": "b83405a5",
   "metadata": {},
   "source": [
    "10. Why does this expression cause an error? How can you fix it?\n",
    "I have eaten + 99 + burritos."
   ]
  },
  {
   "cell_type": "markdown",
   "id": "27f8e7a3",
   "metadata": {},
   "source": [
    " It gone give syntax error because numeric  value 99 cannot be added or concat with string.To remove error we should convert it into string by using function str(99)."
   ]
  },
  {
   "cell_type": "code",
   "execution_count": 15,
   "id": "c460ab53",
   "metadata": {},
   "outputs": [
    {
     "name": "stdout",
     "output_type": "stream",
     "text": [
      "I have eaten 99 burritos.\n"
     ]
    }
   ],
   "source": [
    " print( 'I have eaten ' +str('99') + ' burritos.')"
   ]
  }
 ],
 "metadata": {
  "kernelspec": {
   "display_name": "Python 3 (ipykernel)",
   "language": "python",
   "name": "python3"
  },
  "language_info": {
   "codemirror_mode": {
    "name": "ipython",
    "version": 3
   },
   "file_extension": ".py",
   "mimetype": "text/x-python",
   "name": "python",
   "nbconvert_exporter": "python",
   "pygments_lexer": "ipython3",
   "version": "3.10.9"
  }
 },
 "nbformat": 4,
 "nbformat_minor": 5
}
