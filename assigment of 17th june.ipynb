{
 "cells": [
  {
   "cell_type": "markdown",
   "id": "b4dfa78d",
   "metadata": {},
   "source": [
    "1. What is the role of try and exception block?"
   ]
  },
  {
   "cell_type": "markdown",
   "id": "415dd03a",
   "metadata": {},
   "source": [
    ">The role of a try-except block in Python is to handle exceptions that may occur during the execution of a section of code. The try block contains the code that might raise an exception, and the except block is used to specify the code that should be executed if an exception of a particular type occurs."
   ]
  },
  {
   "cell_type": "markdown",
   "id": "dc26eb29",
   "metadata": {},
   "source": [
    "2. What is the syntax for a basic try-except block?"
   ]
  },
  {
   "cell_type": "markdown",
   "id": "87257ea8",
   "metadata": {},
   "source": [
    ">Synatx of try-except block-"
   ]
  },
  {
   "cell_type": "code",
   "execution_count": null,
   "id": "14004120",
   "metadata": {},
   "outputs": [],
   "source": [
    "try:\n",
    "    # Code that might raise an exception\n",
    "    # ...\n",
    "except ExceptionType:\n",
    "    # Code to handle the exception\n",
    "    # ..."
   ]
  },
  {
   "cell_type": "markdown",
   "id": "40d103ea",
   "metadata": {},
   "source": [
    "3. What happens if an exception occurs inside a try block and there is no matching\n",
    "   except block?"
   ]
  },
  {
   "cell_type": "markdown",
   "id": "17db76f1",
   "metadata": {},
   "source": [
    ">If an exception occurs inside a try block and there is no matching except block to handle that specific exception type, the exception is propagated up the call stack. If the exception is not handled by any surrounding try-except block, the program will terminate with an unhandled exception error and display a traceback."
   ]
  },
  {
   "cell_type": "markdown",
   "id": "0bcec94e",
   "metadata": {},
   "source": [
    "4. What is the difference between using a bare except block and specifying a specific\n",
    "   exception type?"
   ]
  },
  {
   "cell_type": "markdown",
   "id": "5c9024ac",
   "metadata": {},
   "source": [
    ">The difference between using a bare except block (except:) and specifying a specific exception type is in the level of control and specificity of exception handling:\n",
    "\n",
    ">Using a bare except block can catch any exception that occurs within the try block. It is generally not recommended because it can make it harder to diagnose and handle specific exceptions and may hide potential issues in the code.\n",
    "\n",
    ">Specifying a specific exception type in the except block allows you to handle only that specific type of exception. It provides more control over exception handling and allows you to handle different exceptions in different ways."
   ]
  },
  {
   "cell_type": "markdown",
   "id": "d77ad411",
   "metadata": {},
   "source": [
    "5. Can you have nested try-except blocks in Python? If yes, then give an example."
   ]
  },
  {
   "cell_type": "markdown",
   "id": "56624265",
   "metadata": {},
   "source": [
    ">Yes, nested try-except blocks are allowed in Python."
   ]
  },
  {
   "cell_type": "code",
   "execution_count": null,
   "id": "eb81402f",
   "metadata": {},
   "outputs": [],
   "source": [
    "#example\n",
    "try:\n",
    "    # Outer try block\n",
    "    # ...\n",
    "    try:\n",
    "        # Inner try block\n",
    "        # ...\n",
    "    except ExceptionType2:\n",
    "        # Inner except block for ExceptionType2\n",
    "        # ...\n",
    "except ExceptionType1:\n",
    "    # Outer except block for ExceptionType1\n",
    "    # ..."
   ]
  },
  {
   "cell_type": "markdown",
   "id": "ef813f61",
   "metadata": {},
   "source": [
    "6. Can we use multiple exception blocks, if yes then give an example."
   ]
  },
  {
   "cell_type": "markdown",
   "id": "a77528af",
   "metadata": {},
   "source": [
    ">Yes, multiple except blocks can be used to handle different types of exceptions. "
   ]
  },
  {
   "cell_type": "code",
   "execution_count": null,
   "id": "204789da",
   "metadata": {},
   "outputs": [],
   "source": [
    "#example\n",
    "try:\n",
    "    # Code that might raise exceptions\n",
    "    # ...\n",
    "except ExceptionType1:\n",
    "    # Code to handle ExceptionType1\n",
    "    # ...\n",
    "except ExceptionType2:\n",
    "    # Code to handle ExceptionType2\n",
    "    # ..."
   ]
  },
  {
   "cell_type": "markdown",
   "id": "39f1ee7e",
   "metadata": {},
   "source": [
    "7. Write the reason due to which following errors are raised:\n",
    "a. EOFError\n",
    "b. FloatingPointError\n",
    "c. IndexError\n",
    "d. MemoryError\n",
    "e. OverflowError\n",
    "f. TabError\n",
    "g. ValueError"
   ]
  },
  {
   "cell_type": "markdown",
   "id": "cecb1213",
   "metadata": {},
   "source": [
    ">a. EOFError: Raised when the input() function reaches the end of file (EOF) without receiving any input.\n",
    "\n",
    ">b. FloatingPointError: Raised when a floating-point operation fails to produce a valid result, such as division by zero or an overflow/underflow error.\n",
    "\n",
    ">c. IndexError: Raised when trying to access an index that is out of range in a sequence (list, tuple, etc.).\n",
    "\n",
    ">d. MemoryError: Raised when an operation cannot be completeddue to lack of memory.\n",
    "\n",
    ">e. OverflowError: Raised when the result of an arithmetic operation is too large to be represented within the available memory or numeric range.\n",
    "\n",
    ">f. TabError: Raised when there is an issue with the indentation of code, typically caused by mixing tabs and spaces inconsistently.\n",
    "\n",
    ">g. ValueError: Raised when a function receives an argument of the correct data type but with an invalid value."
   ]
  },
  {
   "cell_type": "markdown",
   "id": "8858ed8f",
   "metadata": {},
   "source": [
    "8. Write code for the following given scenario and add try-exception block to it.\n",
    "a. Program to divide two numbers\n",
    "b. Program to convert a string to an integer\n",
    "c. Program to access an element in a list\n",
    "d. Program to handle a specific exception\n",
    "e. Program to handle any exception"
   ]
  },
  {
   "cell_type": "code",
   "execution_count": 3,
   "id": "89dd3e23",
   "metadata": {},
   "outputs": [
    {
     "name": "stdout",
     "output_type": "stream",
     "text": [
      "Enter a first number45\n",
      "Enter a second number0\n",
      "Error: Cannot divide by Zero\n"
     ]
    }
   ],
   "source": [
    "#a\n",
    "a=int(input(\"Enter a first number\"))\n",
    "b=int(input(\"Enter a second number\"))\n",
    "try :\n",
    "    r=a/b;\n",
    "except ZeroDivisionError:\n",
    "    print(\"Error: Cannot divide by Zero\")\n",
    "else:\n",
    "    print(\"Result =\" ,r)"
   ]
  },
  {
   "cell_type": "code",
   "execution_count": null,
   "id": "be109cf8",
   "metadata": {},
   "outputs": [],
   "source": [
    "#b\n",
    "try:\n",
    "    number_str =input(\"Enter a string to conver in int.\")\n",
    "    number = int(number_str)\n",
    "    print(\"Number:\", number)\n",
    "except ValueError:\n",
    "    print(\"Error: Invalid string format for conversion to integer.\")"
   ]
  },
  {
   "cell_type": "code",
   "execution_count": null,
   "id": "cd7e6220",
   "metadata": {},
   "outputs": [],
   "source": [
    "#c\n",
    "try:\n",
    "    my_list = [1, 2, 3]\n",
    "    index = 3\n",
    "    value = my_list[index]\n",
    "    print(\"Value:\", value)\n",
    "except IndexError:\n",
    "    print(\"Error: Index out of range.\")"
   ]
  },
  {
   "cell_type": "code",
   "execution_count": null,
   "id": "acfb83f8",
   "metadata": {},
   "outputs": [],
   "source": [
    "#d\n",
    "try:\n",
    "    file = open(\"nonexistent.txt\", \"r\")\n",
    "    content = file.read()\n",
    "    file.close()\n",
    "    print(\"File content:\", content)\n",
    "except FileNotFoundError:\n",
    "    print(\"Error: File not found.\")"
   ]
  },
  {
   "cell_type": "code",
   "execution_count": 8,
   "id": "0479ea82",
   "metadata": {},
   "outputs": [
    {
     "name": "stdout",
     "output_type": "stream",
     "text": [
      "An error occurred: invalid literal for int() with base 10: 'e'\n"
     ]
    }
   ],
   "source": [
    "#e\n",
    "try:\n",
    "    number_str = \"e\"\n",
    "    number = int(number_str)\n",
    "    print(\"Number:\", number)\n",
    "except Exception as e:\n",
    "    print(\"An error occurred:\", str(e))\n"
   ]
  }
 ],
 "metadata": {
  "kernelspec": {
   "display_name": "Python 3 (ipykernel)",
   "language": "python",
   "name": "python3"
  },
  "language_info": {
   "codemirror_mode": {
    "name": "ipython",
    "version": 3
   },
   "file_extension": ".py",
   "mimetype": "text/x-python",
   "name": "python",
   "nbconvert_exporter": "python",
   "pygments_lexer": "ipython3",
   "version": "3.10.9"
  }
 },
 "nbformat": 4,
 "nbformat_minor": 5
}
