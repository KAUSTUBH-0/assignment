{
 "cells": [
  {
   "cell_type": "markdown",
   "id": "74793933",
   "metadata": {},
   "source": [
    "1. What is a lambda function in Python, and how does it differ from a regular function?"
   ]
  },
  {
   "cell_type": "markdown",
   "id": "4e793d1e",
   "metadata": {},
   "source": [
    ">A lambda function in Python is a small, anonymous function that can take any number of arguments but can only have one expression. It is defined using the lambda keyword, followed by the arguments and a single expression. Lambda functions are typically used when a small function is needed for a short period, without the need to define a named function separately. The main difference between a lambda function and a regular function is that a lambda function does not require a return statement and can only consist of a single expression."
   ]
  },
  {
   "cell_type": "markdown",
   "id": "26d2c1b2",
   "metadata": {},
   "source": [
    "2. Can a lambda function in Python have multiple arguments? If yes, how can you define and use\n",
    "   them?"
   ]
  },
  {
   "cell_type": "markdown",
   "id": "b8532db5",
   "metadata": {},
   "source": [
    ">Yes, a lambda function in Python can have multiple arguments. Arguments are defined after the lambda keyword, separated by commas."
   ]
  },
  {
   "cell_type": "code",
   "execution_count": null,
   "id": "2fb2d63b",
   "metadata": {},
   "outputs": [],
   "source": [
    "#example\n",
    "multiply = lambda x, y: x * y\n",
    "result = multiply(3, 4)\n",
    "print(result)"
   ]
  },
  {
   "cell_type": "markdown",
   "id": "edc6e157",
   "metadata": {},
   "source": [
    "3. How are lambda functions typically used in Python? Provide an example use case."
   ]
  },
  {
   "cell_type": "markdown",
   "id": "fa27f351",
   "metadata": {},
   "source": [
    ">Lambda functions are typically used in Python in situations where a small function is needed as a parameter to another function or as a short, one-time use function. They are commonly used in functional programming concepts like map, filter, and reduce. Some common use cases for lambda functions include sorting, filtering, and transforming data."
   ]
  },
  {
   "cell_type": "code",
   "execution_count": null,
   "id": "1e043c4a",
   "metadata": {},
   "outputs": [],
   "source": [
    "#example\n",
    "numbers = [1, 2, 3, 4, 5]\n",
    "squared_numbers = list(map(lambda x: x ** 2, numbers))\n",
    "print(squared_numbers)"
   ]
  },
  {
   "cell_type": "markdown",
   "id": "8b05874f",
   "metadata": {},
   "source": [
    "4. What are the advantages and limitations of lambda functions compared to regular functions in\n",
    "   Python?"
   ]
  },
  {
   "cell_type": "markdown",
   "id": "db0671fd",
   "metadata": {},
   "source": [
    ">Advantages of lambda functions:\n",
    "\n",
    ">Concise and compact syntax: Lambda functions allow you to define small, one-line functions without the need for a separate function definition.\n",
    "\n",
    ">Readability: Lambda functions can make the code more readable when used appropriately, especially in situations where the function logic is simple and the function is used as a parameter to another function.\n",
    "\n",
    ">Functional programming: Lambda functions align well with functional programming concepts like map, filter, and reduce, allowing for more expressive and efficient code."
   ]
  },
  {
   "cell_type": "markdown",
   "id": "57b1098d",
   "metadata": {},
   "source": [
    ">Limitations of lambda functions:\n",
    "\n",
    ">Limited functionality: Lambda functions can only contain a single expression and cannot include statements like if, for, or return.\n",
    "\n",
    ">Lack of naming: Lambda functions are anonymous, so they can be harder to debug or understand compared to named functions.\n",
    "\n",
    ">Reduced reusability: Lambda functions are typically used for one-time or specific use cases and are not meant to be reused across different parts of the code."
   ]
  },
  {
   "cell_type": "markdown",
   "id": "62a092d1",
   "metadata": {},
   "source": [
    "5. Are lambda functions in Python able to access variables defined outside of their own scope?\n",
    "   Explain with an example."
   ]
  },
  {
   "cell_type": "markdown",
   "id": "28836677",
   "metadata": {},
   "source": [
    ">Yes, lambda functions in Python can access variables defined outside of their own scope. This is achieved through lexical scoping, where the lambda function can \"capture\" and access variables from its surrounding scope. "
   ]
  },
  {
   "cell_type": "code",
   "execution_count": null,
   "id": "97546080",
   "metadata": {},
   "outputs": [],
   "source": [
    "#example\n",
    "def create_multiplier(n):\n",
    "    return lambda x: x * n\n",
    "\n",
    "multiply_by_5 = create_multiplier(5)\n",
    "result = multiply_by_5(10)\n",
    "print(result)"
   ]
  },
  {
   "cell_type": "markdown",
   "id": "132ce575",
   "metadata": {},
   "source": [
    "6. Write a lambda function to calculate the square of a given number."
   ]
  },
  {
   "cell_type": "code",
   "execution_count": null,
   "id": "2c396e7c",
   "metadata": {},
   "outputs": [],
   "source": [
    "square = lambda x: x ** 2\n",
    "result = square(5)\n",
    "print(result)"
   ]
  },
  {
   "cell_type": "markdown",
   "id": "a3da25ce",
   "metadata": {},
   "source": [
    "7. Create a lambda function to find the maximum value in a list of integers."
   ]
  },
  {
   "cell_type": "code",
   "execution_count": null,
   "id": "2208363d",
   "metadata": {},
   "outputs": [],
   "source": [
    "numbers = [5,10, 2, 8, 3]\n",
    "max_value = lambda lst: max(lst)\n",
    "result = max_value(numbers)\n",
    "print(result)"
   ]
  },
  {
   "cell_type": "markdown",
   "id": "89239b9e",
   "metadata": {},
   "source": [
    "8. Implement a lambda function to filter out all the even numbers from a list of integers."
   ]
  },
  {
   "cell_type": "code",
   "execution_count": null,
   "id": "9c4d26c1",
   "metadata": {},
   "outputs": [],
   "source": [
    "numbers = [1, 2, 3, 4, 5, 6, 7, 8, 9, 10]\n",
    "even_numbers = list(filter(lambda x: x % 2 == 0, numbers))\n",
    "print(even_numbers)"
   ]
  },
  {
   "cell_type": "markdown",
   "id": "a0d0e6ab",
   "metadata": {},
   "source": [
    "9. Write a lambda function to sort a list of strings in ascending order based on the length of each\n",
    "   string."
   ]
  },
  {
   "cell_type": "code",
   "execution_count": null,
   "id": "c413b345",
   "metadata": {},
   "outputs": [],
   "source": [
    "strings = ['apple', 'banana', 'cherry', 'date']\n",
    "sorted_strings = sorted(strings, key=lambda x: len(x))\n",
    "print(sorted_strings)"
   ]
  },
  {
   "cell_type": "markdown",
   "id": "47e68c65",
   "metadata": {},
   "source": [
    "10. Create a lambda function that takes two lists as input and returns a new list containing the\n",
    "    common elements between the two lists."
   ]
  },
  {
   "cell_type": "code",
   "execution_count": null,
   "id": "949744c2",
   "metadata": {},
   "outputs": [],
   "source": [
    "list1 = [1, 2, 3, 4, 5]\n",
    "list2 = [4, 5, 6, 7, 8]\n",
    "common_elements = list(filter(lambda x: x in list1, list2))\n",
    "print(common_elements)"
   ]
  },
  {
   "cell_type": "markdown",
   "id": "b30dd0cc",
   "metadata": {},
   "source": [
    "11. Write a recursive function to calculate the factorial of a given positive integer."
   ]
  },
  {
   "cell_type": "code",
   "execution_count": null,
   "id": "74cc38d1",
   "metadata": {},
   "outputs": [],
   "source": [
    "def factorial(n):\n",
    "    if n == 0:\n",
    "        return 1\n",
    "    else:\n",
    "        return n * factorial(n-1)\n",
    "\n",
    "result = factorial(5)\n",
    "print(result)"
   ]
  },
  {
   "cell_type": "markdown",
   "id": "1bda1893",
   "metadata": {},
   "source": [
    "12. Implement a recursive function to compute the nth Fibonacci number."
   ]
  },
  {
   "cell_type": "code",
   "execution_count": null,
   "id": "7e83dba3",
   "metadata": {},
   "outputs": [],
   "source": [
    "def fibonacci(n):\n",
    "    if n <= 1:\n",
    "        return n\n",
    "    else:\n",
    "        return fibonacci(n-1) + fibonacci(n-2)\n",
    "\n",
    "result = fibonacci(6)\n",
    "print(result)"
   ]
  },
  {
   "cell_type": "markdown",
   "id": "6c5d21db",
   "metadata": {},
   "source": [
    "13. Create a recursive function to find the sum of all the elements in a given list."
   ]
  },
  {
   "cell_type": "code",
   "execution_count": null,
   "id": "2161744c",
   "metadata": {},
   "outputs": [],
   "source": [
    "def sum_list(lst):\n",
    "    if len(lst) == 0:\n",
    "        return 0\n",
    "    else:\n",
    "        return lst[0] + sum_list(lst[1:])\n",
    "\n",
    "numbers = [1, 2, 3, 4, 5]\n",
    "result = sum_list(numbers)\n",
    "print(result"
   ]
  },
  {
   "cell_type": "markdown",
   "id": "8f766a01",
   "metadata": {},
   "source": [
    "14. Write a recursive function to determine whether a given string is a palindrome."
   ]
  },
  {
   "cell_type": "code",
   "execution_count": null,
   "id": "3ce1ae69",
   "metadata": {},
   "outputs": [],
   "source": [
    "def is_palindrome(s):\n",
    "    if len(s) <= 1:\n",
    "        return True\n",
    "    else:\n",
    "        return s[0] == s[-1] and is_palindrome(s[1:-1])\n",
    "\n",
    "result = is_palindrome(\"racecar\")\n",
    "print(result)"
   ]
  },
  {
   "cell_type": "markdown",
   "id": "adc4d465",
   "metadata": {},
   "source": [
    "15. Implement a recursive function to find the greatest common divisor (GCD) of two positive integers."
   ]
  },
  {
   "cell_type": "code",
   "execution_count": null,
   "id": "70d489d5",
   "metadata": {},
   "outputs": [],
   "source": [
    "def gcd(a, b):\n",
    "    if b == 0:\n",
    "        return a\n",
    "    else:\n",
    "        return gcd(b, a % b)\n",
    "\n",
    "result = gcd(24, 36)\n",
    "print(result)"
   ]
  }
 ],
 "metadata": {
  "kernelspec": {
   "display_name": "Python 3 (ipykernel)",
   "language": "python",
   "name": "python3"
  },
  "language_info": {
   "codemirror_mode": {
    "name": "ipython",
    "version": 3
   },
   "file_extension": ".py",
   "mimetype": "text/x-python",
   "name": "python",
   "nbconvert_exporter": "python",
   "pygments_lexer": "ipython3",
   "version": "3.10.9"
  }
 },
 "nbformat": 4,
 "nbformat_minor": 5
}
