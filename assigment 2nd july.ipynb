{
 "cells": [
  {
   "cell_type": "markdown",
   "id": "b6e9b9ec",
   "metadata": {},
   "source": [
    "1. Explain what inheritance is in object-oriented programming and why it is used."
   ]
  },
  {
   "cell_type": "markdown",
   "id": "22fa6a3b",
   "metadata": {},
   "source": [
    ">Inheritance is a fundamental concept in object-oriented programming (OOP) that allows a class (known as the \"derived class\" or \"subclass\") to inherit the properties and behaviors of another class (known as the \"base class\" or \"superclass\"). Inheritance facilitates code reusability and establishes a hierarchical relationship between classes. The derived class can access the non-private members (attributes and methods) of the base class, extending its functionality or modifying its behavior."
   ]
  },
  {
   "cell_type": "markdown",
   "id": "a0d19c64",
   "metadata": {},
   "source": [
    "2. Discuss the concept of single inheritance and multiple inheritance, highlighting their\n",
    "   differences and advantages."
   ]
  },
  {
   "cell_type": "markdown",
   "id": "98742a9f",
   "metadata": {},
   "source": [
    ">Single Inheritance and Multiple Inheritance:\n",
    "Single Inheritance refers to a class inheriting from only one base class. In most programming languages, including Java and Python, single inheritance is supported.\n",
    "\n",
    ">Multiple Inheritance, on the other hand, allows a class to inherit from two or more base classes. This can lead to more complex class hierarchies. Some programming languages like C++ support multiple inheritance."
   ]
  },
  {
   "cell_type": "markdown",
   "id": "04120977",
   "metadata": {},
   "source": [
    ">Advantages of Single Inheritance:\n",
    "\n",
    ">Simplicity: Single inheritance results in a simpler class hierarchy, making the code easier to \n",
    "manage and understand.\n",
    "\n",
    ">Reduced ambiguity: It avoids the \"diamond problem,\" a common issue that arises with multiple inheritance, where a derived class inherits two base classes that share a common ancestor. This can lead to ambiguity in method resolution."
   ]
  },
  {
   "cell_type": "markdown",
   "id": "db500672",
   "metadata": {},
   "source": [
    ">Advantage of Multiple Inheritance:\n",
    "\n",
    ">Code Reusability: Multiple inheritance allows a class to inherit features from multiple sources, promoting code reuse.\n",
    "\n",
    ">Expressive Power: It enables the creation of complex class relationships that reflect real-world scenarios more accurately."
   ]
  },
  {
   "cell_type": "markdown",
   "id": "036a0a70",
   "metadata": {},
   "source": [
    "3. Explain the terms \"base class\" and \"derived class\" in the context of inheritance."
   ]
  },
  {
   "cell_type": "markdown",
   "id": "b3b72fda",
   "metadata": {},
   "source": [
    ">In the context of inheritance, the \"base class\" (also known as \"superclass\" or \"parent class\") is the class from which other classes inherit. It serves as the foundation, providing common attributes and methods that are shared by its derived classes.\n",
    "\n",
    ">The \"derived class\" (also known as \"subclass\" or \"child class\") is the class that inherits from the base class. It gains access to the attributes and methods of the base class and can also have its specific attributes and methods."
   ]
  },
  {
   "cell_type": "markdown",
   "id": "f70871a4",
   "metadata": {},
   "source": [
    "4. What is the significance of the \"protected\" access modifier in inheritance? How does\n",
    "   it differ from \"private\" and \"public\" modifiers?"
   ]
  },
  {
   "cell_type": "markdown",
   "id": "8820477e",
   "metadata": {},
   "source": [
    ">The \"protected\" Access Modifier in Inheritance:\n",
    "The \"protected\" access modifier allows members (attributes and methods) of a base class to be accessible to its derived classes but not to other classes outside the inheritance hierarchy. It strikes a balance between the \"public\" and \"private\" access modifiers.\n",
    "\n",
    ">\"private\": Members marked as \"private\" are only accessible within the class they are defined in. Derived classes cannot access these members directly.\n",
    "\n",
    ">\"public\": Members marked as \"public\" are accessible to all classes, including derived classes.\n",
    "\n",
    ">Usage of \"protected\" allows derived classes to access important data or methods of the base class while still encapsulating them from external access."
   ]
  },
  {
   "cell_type": "markdown",
   "id": "333a8f8a",
   "metadata": {},
   "source": [
    "5. What is the purpose of the \"super\" keyword in inheritance? Provide an example."
   ]
  },
  {
   "cell_type": "markdown",
   "id": "86156ace",
   "metadata": {},
   "source": [
    ">The \"super\" keyword is used to call a method or constructor of the base class from the derived class. It is particularly useful when you want to extend the functionality of the base class while still retaining its original behavior."
   ]
  },
  {
   "cell_type": "code",
   "execution_count": null,
   "id": "e5866e4e",
   "metadata": {},
   "outputs": [],
   "source": [
    "#for example\n",
    "class Parent:\n",
    "    def __init__(self, name):\n",
    "        self.name = name\n",
    "\n",
    "    def show(self):\n",
    "        print(f\"Name: {self.name}\")\n",
    "\n",
    "\n",
    "class Child(Parent):\n",
    "    def __init__(self, name, age):\n",
    "        super().__init__(name)  # Calling the base class constructor\n",
    "        self.age = age\n",
    "\n",
    "    def show(self):\n",
    "        super().show()  # Calling the base class method\n",
    "        print(f\"Age: {self.age}\")\n",
    "\n",
    "\n",
    "child = Child(\"Alice\", 25)\n",
    "child.show()"
   ]
  },
  {
   "cell_type": "markdown",
   "id": "5d743bc6",
   "metadata": {},
   "source": [
    "6. Create a base class called \"Vehicle\" with attributes like \"make\", \"model\", and \"year\".\n",
    "   Then, create a derived class called \"Car\" that inherits from \"Vehicle\" and adds an\n",
    "   attribute called \"fuel_type\". Implement appropriate methods in both classes."
   ]
  },
  {
   "cell_type": "code",
   "execution_count": 3,
   "id": "ddaa8b95",
   "metadata": {},
   "outputs": [
    {
     "name": "stdout",
     "output_type": "stream",
     "text": [
      "Make: Toyota, Model: Corolla, Year: 2023\n",
      "Fuel Type: Petrol\n"
     ]
    }
   ],
   "source": [
    "class Vehicle:\n",
    "    def __init__(self, make, model, year):\n",
    "        self.make = make\n",
    "        self.model = model\n",
    "        self.year = year\n",
    "\n",
    "    def display_info(self):\n",
    "        print(f\"Make: {self.make}, Model: {self.model}, Year: {self.year}\")\n",
    "\n",
    "\n",
    "class Car(Vehicle):\n",
    "    def __init__(self, make, model, year, fuel_type):\n",
    "        super().__init__(make, model, year)\n",
    "        self.fuel_type = fuel_type\n",
    "\n",
    "    def display_info(self):\n",
    "        super().display_info()\n",
    "        print(f\"Fuel Type: {self.fuel_type}\")\n",
    "\n",
    "\n",
    "car = Car(\"Toyota\", \"Corolla\", 2023, \"Petrol\")\n",
    "car.display_info()"
   ]
  },
  {
   "cell_type": "markdown",
   "id": "a41d4402",
   "metadata": {},
   "source": [
    "7. Create a base class called \"Employee\" with attributes like \"name\" and \"salary.\"\n",
    "   Derive two classes, \"Manager\" and \"Developer,\" from \"Employee.\" Add an additional\n",
    "   attribute called \"department\" for the \"Manager\" class and \"programming_language\"\n",
    "   for the \"Developer\" class."
   ]
  },
  {
   "cell_type": "code",
   "execution_count": 1,
   "id": "0e09d0ce",
   "metadata": {},
   "outputs": [
    {
     "name": "stdout",
     "output_type": "stream",
     "text": [
      "Name: John Doe, Salary: 60000\n",
      "Department: Human Resources\n",
      "Name: Alice Smith, Salary: 55000\n",
      "Programming Language: Python\n"
     ]
    }
   ],
   "source": [
    "class Employee:\n",
    "    def __init__(self, name, salary):\n",
    "        self.name = name\n",
    "        self.salary = salary\n",
    "\n",
    "    def display_info(self):\n",
    "        print(f\"Name: {self.name}, Salary: {self.salary}\")\n",
    "\n",
    "\n",
    "class Manager(Employee):\n",
    "    def __init__(self, name, salary, department):\n",
    "        super().__init__(name, salary)\n",
    "        self.department = department\n",
    "\n",
    "    def display_info(self):\n",
    "        super().display_info()\n",
    "        print(f\"Department: {self.department}\")\n",
    "\n",
    "\n",
    "class Developer(Employee):\n",
    "    def __init__(self, name, salary, programming_language):\n",
    "        super().__init__(name, salary)\n",
    "        self.programming_language = programming_language\n",
    "\n",
    "    def display_info(self):\n",
    "        super().display_info()\n",
    "        print(f\"Programming Language: {self.programming_language}\")\n",
    "\n",
    "\n",
    "manager = Manager(\"John Doe\", 60000, \"Human Resources\")\n",
    "developer = Developer(\"Alice Smith\", 55000, \"Python\")\n",
    "manager.display_info()\n",
    "developer.display_info()"
   ]
  },
  {
   "cell_type": "markdown",
   "id": "57b7a811",
   "metadata": {},
   "source": [
    "8. Design a base class called \"Shape\" with attributes like \"colour\" and \"border_width.\"\n",
    "   Create derived classes, \"Rectangle\" and \"Circle,\" that inherit from \"Shape\" and add\n",
    "   specific attributes like \"length\" and \"width\" for the \"Rectangle\" class and \"radius\" for\n",
    "   the \"Circle\" class."
   ]
  },
  {
   "cell_type": "code",
   "execution_count": 5,
   "id": "a7340ed5",
   "metadata": {},
   "outputs": [
    {
     "name": "stdout",
     "output_type": "stream",
     "text": [
      "Colour: Red, Border Width: 2\n",
      "Length: 5, Width: 3\n",
      "Colour: Blue, Border Width: 1\n",
      "Radius: 4\n"
     ]
    }
   ],
   "source": [
    "class Shape:\n",
    "    def __init__(self, colour, border_width):\n",
    "        self.colour = colour\n",
    "        self.border_width = border_width\n",
    "\n",
    "    def display_info(self):\n",
    "        print(f\"Colour: {self.colour}, Border Width: {self.border_width}\")\n",
    "\n",
    "\n",
    "class Rectangle(Shape):\n",
    "    def __init__(self, colour, border_width, length, width):\n",
    "        super().__init__(colour, border_width)\n",
    "        self.length = length\n",
    "        self.width = width\n",
    "\n",
    "    def display_info(self):\n",
    "        super().display_info()\n",
    "        print(f\"Length: {self.length}, Width: {self.width}\")\n",
    "\n",
    "\n",
    "class Circle(Shape):\n",
    "    def __init__(self, colour, border_width, radius):\n",
    "        super().__init__(colour, border_width)\n",
    "        self.radius = radius\n",
    "\n",
    "    def display_info(self):\n",
    "        super().display_info()\n",
    "        print(f\"Radius: {self.radius}\")\n",
    "\n",
    "\n",
    "rectangle = Rectangle(\"Red\", 2, 5, 3)\n",
    "circle = Circle(\"Blue\", 1, 4)\n",
    "rectangle.display_info()\n",
    "circle.display_info()"
   ]
  },
  {
   "cell_type": "markdown",
   "id": "8705bbd7",
   "metadata": {},
   "source": [
    "9. Create a base class called \"Device\" with attributes like \"brand\" and \"model.\" Derive\n",
    "   two classes, \"Phone\" and \"Tablet,\" from \"Device.\" Add specific attributes like\n",
    "   \"screen_size\" for the \"Phone\" class and \"battery_capacity\" for the \"Tablet\" class."
   ]
  },
  {
   "cell_type": "code",
   "execution_count": 4,
   "id": "6bf5d5c6",
   "metadata": {},
   "outputs": [
    {
     "name": "stdout",
     "output_type": "stream",
     "text": [
      "Brand: Samsung, Model: Galaxy S21\n",
      "Screen Size: 6.2 inches\n",
      "Brand: Apple, Model: iPad Air\n",
      "Battery Capacity: 8000 mAh\n"
     ]
    }
   ],
   "source": [
    "class Device:\n",
    "    def __init__(self, brand, model):\n",
    "        self.brand = brand\n",
    "        self.model = model\n",
    "\n",
    "    def display_info(self):\n",
    "        print(f\"Brand: {self.brand}, Model: {self.model}\")\n",
    "\n",
    "\n",
    "class Phone(Device):\n",
    "    def __init__(self, brand, model, screen_size):\n",
    "        super().__init__(brand, model)\n",
    "        self.screen_size = screen_size\n",
    "\n",
    "    def display_info(self):\n",
    "        super().display_info()\n",
    "        print(f\"Screen Size: {self.screen_size}\")\n",
    "\n",
    "\n",
    "class Tablet(Device):\n",
    "    def __init__(self, brand, model, battery_capacity):\n",
    "        super().__init__(brand, model)\n",
    "        self.battery_capacity = battery_capacity\n",
    "\n",
    "    def display_info(self):\n",
    "        super().display_info()\n",
    "        print(f\"Battery Capacity: {self.battery_capacity}\")\n",
    "\n",
    "\n",
    "phone = Phone(\"Samsung\", \"Galaxy S21\", \"6.2 inches\")\n",
    "tablet = Tablet(\"Apple\", \"iPad Air\", \"8000 mAh\")\n",
    "phone.display_info()\n",
    "tablet.display_info()"
   ]
  },
  {
   "cell_type": "markdown",
   "id": "ed820e49",
   "metadata": {},
   "source": [
    "10. Create a base class called \"BankAccount\" with attributes like \"account_number\" and\n",
    "    \"balance.\" Derive two classes, \"SavingsAccount\" and \"CheckingAccount,\" from\n",
    "    \"BankAccount.\" Add specific methods like \"calculate_interest\" for the\n",
    "    \"SavingsAccount\" class and \"deduct_fees\" for the \"CheckingAccount\" class."
   ]
  },
  {
   "cell_type": "code",
   "execution_count": 6,
   "id": "8dae8132",
   "metadata": {},
   "outputs": [
    {
     "name": "stdout",
     "output_type": "stream",
     "text": [
      "Interest Earned: 125.0\n",
      "Account Number: 12345, Balance: 5125.0\n",
      "Fees Deducted: 50\n",
      "Account Number: 67890, Balance: 2950\n"
     ]
    }
   ],
   "source": [
    "class BankAccount:\n",
    "    def __init__(self, account_number, balance):\n",
    "        self.account_number = account_number\n",
    "        self.balance = balance\n",
    "\n",
    "    def display_info(self):\n",
    "        print(f\"Account Number: {self.account_number}, Balance: {self.balance}\")\n",
    "\n",
    "\n",
    "class SavingsAccount(BankAccount):\n",
    "    def __init__(self, account_number, balance):\n",
    "        super().__init__(account_number, balance)\n",
    "\n",
    "    def calculate_interest(self, rate):\n",
    "        interest = self.balance * rate / 100\n",
    "        self.balance += interest\n",
    "        print(f\"Interest Earned: {interest}\")\n",
    "        self.display_info()\n",
    "\n",
    "\n",
    "class CheckingAccount(BankAccount):\n",
    "    def __init__(self, account_number, balance):\n",
    "        super().__init__(account_number, balance)\n",
    "\n",
    "    def deduct_fees(self, fee):\n",
    "        self.balance -= fee\n",
    "        print(f\"Fees Deducted: {fee}\")\n",
    "        self.display_info()\n",
    "\n",
    "\n",
    "savings_account = SavingsAccount(\"12345\", 5000)\n",
    "checking_account = CheckingAccount(\"67890\", 3000)\n",
    "savings_account.calculate_interest(2.5)\n",
    "checking_account.deduct_fees(50)"
   ]
  }
 ],
 "metadata": {
  "kernelspec": {
   "display_name": "Python 3 (ipykernel)",
   "language": "python",
   "name": "python3"
  },
  "language_info": {
   "codemirror_mode": {
    "name": "ipython",
    "version": 3
   },
   "file_extension": ".py",
   "mimetype": "text/x-python",
   "name": "python",
   "nbconvert_exporter": "python",
   "pygments_lexer": "ipython3",
   "version": "3.10.9"
  }
 },
 "nbformat": 4,
 "nbformat_minor": 5
}
